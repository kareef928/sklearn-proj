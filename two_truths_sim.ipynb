{
 "cells": [
  {
   "cell_type": "code",
   "execution_count": 2,
   "metadata": {},
   "outputs": [
    {
     "name": "stderr",
     "output_type": "stream",
     "text": [
      "/Users/kareefullah/Desktop/NeuroData/neurodata/sklearn-proj-folder/sklearn-proj/.venv/lib/python3.11/site-packages/tqdm/auto.py:21: TqdmWarning: IProgress not found. Please update jupyter and ipywidgets. See https://ipywidgets.readthedocs.io/en/stable/user_install.html\n",
      "  from .autonotebook import tqdm as notebook_tqdm\n"
     ]
    }
   ],
   "source": [
    "import time\n",
    "import warnings\n",
    "from itertools import cycle, islice\n",
    "\n",
    "import matplotlib.pyplot as plt\n",
    "import numpy as np\n",
    "import pandas as pd\n",
    "import seaborn as sns\n",
    "\n",
    "from sklearn import cluster, datasets, mixture\n",
    "from sklearn.neighbors import kneighbors_graph\n",
    "from sklearn.preprocessing import StandardScaler\n",
    "from sklearn.utils.validation import check_symmetric\n",
    "from sklearn.metrics import adjusted_rand_score\n",
    "from sklearn.cluster import KMeans, SpectralClustering, spectral_clustering, k_means\n",
    "from sklearn.manifold import spectral_embedding\n",
    "\n",
    "from graspologic.plot import adjplot\n",
    "from graspologic.embed import AdjacencySpectralEmbed, LaplacianSpectralEmbed   \n",
    "from graspologic.utils import remap_labels, is_symmetric\n",
    "from graspologic.simulations import sbm"
   ]
  },
  {
   "cell_type": "code",
   "execution_count": 3,
   "metadata": {},
   "outputs": [],
   "source": [
    "n_sims = 50\n",
    "n_verts = [500, 1000, 5000, 10000, 20000]\n",
    "\n",
    "#n_sims = 100\n",
    "#n_verts = [500, 1000, 5000, 10000, 20000, 40000]\n",
    "\n",
    "B_aff = np.array([[0.050, 0.013], [0.013, 0.051]])\n",
    "B_core = np.array([[0.011, 0.027], [0.027, 0.079]])"
   ]
  },
  {
   "cell_type": "code",
   "execution_count": 4,
   "metadata": {},
   "outputs": [],
   "source": [
    "def calc_ari(B, embed_method):\n",
    "    rows = []\n",
    "    for n in n_verts:\n",
    "        #generate the true labels\n",
    "        labels_sbm = n * [0] + n * [1]\n",
    "\n",
    "        #generate the sbm\n",
    "        sampled_sbm = sbm(2 * [n], B, directed=True)\n",
    "\n",
    "        for _ in range(n_sims):\n",
    "            #choose embedding method\n",
    "            if embed_method == \"ase\":\n",
    "                ase = AdjacencySpectralEmbed(n_components=2)\n",
    "                Xhat, Yhat = ase.fit_transform(sampled_sbm)\n",
    "            elif embed_method == \"lse\":\n",
    "                lse = LaplacianSpectralEmbed(n_components=2)\n",
    "                Xhat, Yhat = lse.fit_transform(sampled_sbm)\n",
    "            elif embed_method == \"sklearn\":\n",
    "                Xhat = spectral_embedding(sampled_sbm, n_components=2)\n",
    "\n",
    "            #calculate the ari score\n",
    "            labels_kmeans = KMeans(n_clusters=2).fit_predict(Xhat)\n",
    "            ari = adjusted_rand_score(labels_sbm, labels_kmeans)\n",
    "            result = {\n",
    "                \"test\": embed_method,\n",
    "                \"n_vert\": n,\n",
    "                \"ari\": ari\n",
    "            }\n",
    "            rows.append(result)\n",
    "\n",
    "    results = pd.DataFrame(rows)\n",
    "    return results"
   ]
  },
  {
   "cell_type": "code",
   "execution_count": 5,
   "metadata": {},
   "outputs": [],
   "source": [
    "#lse vs sklearn (use B_aff)\n",
    "ari_aff_lse_df = calc_ari(B = B_aff, embed_method = \"lse\")\n",
    "ari_aff_sklearn_df = calc_ari(B = B_aff, embed_method = \"sklearn\")\n",
    "ari_aff_df = pd.concat([ari_aff_lse_df, ari_aff_sklearn_df])\n",
    "ari_aff_df.to_csv(\"ari_aff_df.csv\")"
   ]
  },
  {
   "cell_type": "code",
   "execution_count": null,
   "metadata": {},
   "outputs": [
    {
     "data": {
      "text/html": [
       "<div>\n",
       "<style scoped>\n",
       "    .dataframe tbody tr th:only-of-type {\n",
       "        vertical-align: middle;\n",
       "    }\n",
       "\n",
       "    .dataframe tbody tr th {\n",
       "        vertical-align: top;\n",
       "    }\n",
       "\n",
       "    .dataframe thead th {\n",
       "        text-align: right;\n",
       "    }\n",
       "</style>\n",
       "<table border=\"1\" class=\"dataframe\">\n",
       "  <thead>\n",
       "    <tr style=\"text-align: right;\">\n",
       "      <th></th>\n",
       "      <th></th>\n",
       "      <th>ari</th>\n",
       "    </tr>\n",
       "    <tr>\n",
       "      <th>test</th>\n",
       "      <th>n_vert</th>\n",
       "      <th></th>\n",
       "    </tr>\n",
       "  </thead>\n",
       "  <tbody>\n",
       "    <tr>\n",
       "      <th rowspan=\"2\" valign=\"top\">lse</th>\n",
       "      <th>500</th>\n",
       "      <td>1.000000</td>\n",
       "    </tr>\n",
       "    <tr>\n",
       "      <th>1000</th>\n",
       "      <td>1.000000</td>\n",
       "    </tr>\n",
       "    <tr>\n",
       "      <th rowspan=\"2\" valign=\"top\">sklearn</th>\n",
       "      <th>500</th>\n",
       "      <td>0.899944</td>\n",
       "    </tr>\n",
       "    <tr>\n",
       "      <th>1000</th>\n",
       "      <td>0.899972</td>\n",
       "    </tr>\n",
       "  </tbody>\n",
       "</table>\n",
       "</div>"
      ],
      "text/plain": [
       "                     ari\n",
       "test    n_vert          \n",
       "lse     500     1.000000\n",
       "        1000    1.000000\n",
       "sklearn 500     0.899944\n",
       "        1000    0.899972"
      ]
     },
     "execution_count": 116,
     "metadata": {},
     "output_type": "execute_result"
    }
   ],
   "source": [
    "#get the means across the sims (groupby test and n_vert)\n",
    "ari_aff_means = ari_aff_df.groupby([\"test\", \"n_vert\"]).mean()\n",
    "ari_aff_means"
   ]
  },
  {
   "cell_type": "code",
   "execution_count": null,
   "metadata": {},
   "outputs": [
    {
     "data": {
      "text/plain": [
       "Text(0.5, 1.0, 'ARI of Affinity Graph using LSE and Sklearn Embedding')"
      ]
     },
     "execution_count": 117,
     "metadata": {},
     "output_type": "execute_result"
    },
    {
     "data": {
      "image/png": "[encoded data removed]",
      "text/plain": [
       "<Figure size 640x480 with 1 Axes>"
      ]
     },
     "metadata": {},
     "output_type": "display_data"
    }
   ],
   "source": [
    "#make lse vs sklearn affinity plot\n",
    "sns.lineplot(data=ari_aff_df, x=\"n_vert\", y=\"ari\", hue=\"test\", errorbar=None)\n",
    "plt.title('ARI of Affinity Graph using LSE and Sklearn Embedding')"
   ]
  },
  {
   "cell_type": "code",
   "execution_count": null,
   "metadata": {},
   "outputs": [
    {
     "name": "stderr",
     "output_type": "stream",
     "text": [
      "/Users/kareefullah/Desktop/NeuroData/neurodata/sklearn-proj-folder/sklearn-proj/.venv/lib/python3.11/site-packages/sklearn/manifold/_spectral_embedding.py:275: UserWarning: Array is not symmetric, and will be converted to symmetric by average with its transpose.\n",
      "  adjacency = check_symmetric(adjacency)\n",
      "/Users/kareefullah/Desktop/NeuroData/neurodata/sklearn-proj-folder/sklearn-proj/.venv/lib/python3.11/site-packages/sklearn/manifold/_spectral_embedding.py:275: UserWarning: Array is not symmetric, and will be converted to symmetric by average with its transpose.\n",
      "  adjacency = check_symmetric(adjacency)\n",
      "/Users/kareefullah/Desktop/NeuroData/neurodata/sklearn-proj-folder/sklearn-proj/.venv/lib/python3.11/site-packages/sklearn/manifold/_spectral_embedding.py:275: UserWarning: Array is not symmetric, and will be converted to symmetric by average with its transpose.\n",
      "  adjacency = check_symmetric(adjacency)\n",
      "/Users/kareefullah/Desktop/NeuroData/neurodata/sklearn-proj-folder/sklearn-proj/.venv/lib/python3.11/site-packages/sklearn/manifold/_spectral_embedding.py:275: UserWarning: Array is not symmetric, and will be converted to symmetric by average with its transpose.\n",
      "  adjacency = check_symmetric(adjacency)\n",
      "/Users/kareefullah/Desktop/NeuroData/neurodata/sklearn-proj-folder/sklearn-proj/.venv/lib/python3.11/site-packages/sklearn/manifold/_spectral_embedding.py:275: UserWarning: Array is not symmetric, and will be converted to symmetric by average with its transpose.\n",
      "  adjacency = check_symmetric(adjacency)\n",
      "/Users/kareefullah/Desktop/NeuroData/neurodata/sklearn-proj-folder/sklearn-proj/.venv/lib/python3.11/site-packages/sklearn/manifold/_spectral_embedding.py:275: UserWarning: Array is not symmetric, and will be converted to symmetric by average with its transpose.\n",
      "  adjacency = check_symmetric(adjacency)\n",
      "/Users/kareefullah/Desktop/NeuroData/neurodata/sklearn-proj-folder/sklearn-proj/.venv/lib/python3.11/site-packages/sklearn/manifold/_spectral_embedding.py:275: UserWarning: Array is not symmetric, and will be converted to symmetric by average with its transpose.\n",
      "  adjacency = check_symmetric(adjacency)\n",
      "/Users/kareefullah/Desktop/NeuroData/neurodata/sklearn-proj-folder/sklearn-proj/.venv/lib/python3.11/site-packages/sklearn/manifold/_spectral_embedding.py:275: UserWarning: Array is not symmetric, and will be converted to symmetric by average with its transpose.\n",
      "  adjacency = check_symmetric(adjacency)\n",
      "/Users/kareefullah/Desktop/NeuroData/neurodata/sklearn-proj-folder/sklearn-proj/.venv/lib/python3.11/site-packages/sklearn/manifold/_spectral_embedding.py:275: UserWarning: Array is not symmetric, and will be converted to symmetric by average with its transpose.\n",
      "  adjacency = check_symmetric(adjacency)\n",
      "/Users/kareefullah/Desktop/NeuroData/neurodata/sklearn-proj-folder/sklearn-proj/.venv/lib/python3.11/site-packages/sklearn/manifold/_spectral_embedding.py:275: UserWarning: Array is not symmetric, and will be converted to symmetric by average with its transpose.\n",
      "  adjacency = check_symmetric(adjacency)\n",
      "/Users/kareefullah/Desktop/NeuroData/neurodata/sklearn-proj-folder/sklearn-proj/.venv/lib/python3.11/site-packages/sklearn/manifold/_spectral_embedding.py:275: UserWarning: Array is not symmetric, and will be converted to symmetric by average with its transpose.\n",
      "  adjacency = check_symmetric(adjacency)\n",
      "/Users/kareefullah/Desktop/NeuroData/neurodata/sklearn-proj-folder/sklearn-proj/.venv/lib/python3.11/site-packages/sklearn/manifold/_spectral_embedding.py:275: UserWarning: Array is not symmetric, and will be converted to symmetric by average with its transpose.\n",
      "  adjacency = check_symmetric(adjacency)\n",
      "/Users/kareefullah/Desktop/NeuroData/neurodata/sklearn-proj-folder/sklearn-proj/.venv/lib/python3.11/site-packages/sklearn/manifold/_spectral_embedding.py:275: UserWarning: Array is not symmetric, and will be converted to symmetric by average with its transpose.\n",
      "  adjacency = check_symmetric(adjacency)\n",
      "/Users/kareefullah/Desktop/NeuroData/neurodata/sklearn-proj-folder/sklearn-proj/.venv/lib/python3.11/site-packages/sklearn/manifold/_spectral_embedding.py:275: UserWarning: Array is not symmetric, and will be converted to symmetric by average with its transpose.\n",
      "  adjacency = check_symmetric(adjacency)\n",
      "/Users/kareefullah/Desktop/NeuroData/neurodata/sklearn-proj-folder/sklearn-proj/.venv/lib/python3.11/site-packages/sklearn/manifold/_spectral_embedding.py:275: UserWarning: Array is not symmetric, and will be converted to symmetric by average with its transpose.\n",
      "  adjacency = check_symmetric(adjacency)\n",
      "/Users/kareefullah/Desktop/NeuroData/neurodata/sklearn-proj-folder/sklearn-proj/.venv/lib/python3.11/site-packages/sklearn/manifold/_spectral_embedding.py:275: UserWarning: Array is not symmetric, and will be converted to symmetric by average with its transpose.\n",
      "  adjacency = check_symmetric(adjacency)\n",
      "/Users/kareefullah/Desktop/NeuroData/neurodata/sklearn-proj-folder/sklearn-proj/.venv/lib/python3.11/site-packages/sklearn/manifold/_spectral_embedding.py:275: UserWarning: Array is not symmetric, and will be converted to symmetric by average with its transpose.\n",
      "  adjacency = check_symmetric(adjacency)\n",
      "/Users/kareefullah/Desktop/NeuroData/neurodata/sklearn-proj-folder/sklearn-proj/.venv/lib/python3.11/site-packages/sklearn/manifold/_spectral_embedding.py:275: UserWarning: Array is not symmetric, and will be converted to symmetric by average with its transpose.\n",
      "  adjacency = check_symmetric(adjacency)\n",
      "/Users/kareefullah/Desktop/NeuroData/neurodata/sklearn-proj-folder/sklearn-proj/.venv/lib/python3.11/site-packages/sklearn/manifold/_spectral_embedding.py:275: UserWarning: Array is not symmetric, and will be converted to symmetric by average with its transpose.\n",
      "  adjacency = check_symmetric(adjacency)\n",
      "/Users/kareefullah/Desktop/NeuroData/neurodata/sklearn-proj-folder/sklearn-proj/.venv/lib/python3.11/site-packages/sklearn/manifold/_spectral_embedding.py:275: UserWarning: Array is not symmetric, and will be converted to symmetric by average with its transpose.\n",
      "  adjacency = check_symmetric(adjacency)\n",
      "/Users/kareefullah/Desktop/NeuroData/neurodata/sklearn-proj-folder/sklearn-proj/.venv/lib/python3.11/site-packages/sklearn/manifold/_spectral_embedding.py:275: UserWarning: Array is not symmetric, and will be converted to symmetric by average with its transpose.\n",
      "  adjacency = check_symmetric(adjacency)\n",
      "/Users/kareefullah/Desktop/NeuroData/neurodata/sklearn-proj-folder/sklearn-proj/.venv/lib/python3.11/site-packages/sklearn/manifold/_spectral_embedding.py:275: UserWarning: Array is not symmetric, and will be converted to symmetric by average with its transpose.\n",
      "  adjacency = check_symmetric(adjacency)\n",
      "/Users/kareefullah/Desktop/NeuroData/neurodata/sklearn-proj-folder/sklearn-proj/.venv/lib/python3.11/site-packages/sklearn/manifold/_spectral_embedding.py:275: UserWarning: Array is not symmetric, and will be converted to symmetric by average with its transpose.\n",
      "  adjacency = check_symmetric(adjacency)\n",
      "/Users/kareefullah/Desktop/NeuroData/neurodata/sklearn-proj-folder/sklearn-proj/.venv/lib/python3.11/site-packages/sklearn/manifold/_spectral_embedding.py:275: UserWarning: Array is not symmetric, and will be converted to symmetric by average with its transpose.\n",
      "  adjacency = check_symmetric(adjacency)\n",
      "/Users/kareefullah/Desktop/NeuroData/neurodata/sklearn-proj-folder/sklearn-proj/.venv/lib/python3.11/site-packages/sklearn/manifold/_spectral_embedding.py:275: UserWarning: Array is not symmetric, and will be converted to symmetric by average with its transpose.\n",
      "  adjacency = check_symmetric(adjacency)\n",
      "/Users/kareefullah/Desktop/NeuroData/neurodata/sklearn-proj-folder/sklearn-proj/.venv/lib/python3.11/site-packages/sklearn/manifold/_spectral_embedding.py:275: UserWarning: Array is not symmetric, and will be converted to symmetric by average with its transpose.\n",
      "  adjacency = check_symmetric(adjacency)\n",
      "/Users/kareefullah/Desktop/NeuroData/neurodata/sklearn-proj-folder/sklearn-proj/.venv/lib/python3.11/site-packages/sklearn/manifold/_spectral_embedding.py:275: UserWarning: Array is not symmetric, and will be converted to symmetric by average with its transpose.\n",
      "  adjacency = check_symmetric(adjacency)\n",
      "/Users/kareefullah/Desktop/NeuroData/neurodata/sklearn-proj-folder/sklearn-proj/.venv/lib/python3.11/site-packages/sklearn/manifold/_spectral_embedding.py:275: UserWarning: Array is not symmetric, and will be converted to symmetric by average with its transpose.\n",
      "  adjacency = check_symmetric(adjacency)\n",
      "/Users/kareefullah/Desktop/NeuroData/neurodata/sklearn-proj-folder/sklearn-proj/.venv/lib/python3.11/site-packages/sklearn/manifold/_spectral_embedding.py:275: UserWarning: Array is not symmetric, and will be converted to symmetric by average with its transpose.\n",
      "  adjacency = check_symmetric(adjacency)\n",
      "/Users/kareefullah/Desktop/NeuroData/neurodata/sklearn-proj-folder/sklearn-proj/.venv/lib/python3.11/site-packages/sklearn/manifold/_spectral_embedding.py:275: UserWarning: Array is not symmetric, and will be converted to symmetric by average with its transpose.\n",
      "  adjacency = check_symmetric(adjacency)\n",
      "/Users/kareefullah/Desktop/NeuroData/neurodata/sklearn-proj-folder/sklearn-proj/.venv/lib/python3.11/site-packages/sklearn/manifold/_spectral_embedding.py:275: UserWarning: Array is not symmetric, and will be converted to symmetric by average with its transpose.\n",
      "  adjacency = check_symmetric(adjacency)\n",
      "/Users/kareefullah/Desktop/NeuroData/neurodata/sklearn-proj-folder/sklearn-proj/.venv/lib/python3.11/site-packages/sklearn/manifold/_spectral_embedding.py:275: UserWarning: Array is not symmetric, and will be converted to symmetric by average with its transpose.\n",
      "  adjacency = check_symmetric(adjacency)\n",
      "/Users/kareefullah/Desktop/NeuroData/neurodata/sklearn-proj-folder/sklearn-proj/.venv/lib/python3.11/site-packages/sklearn/manifold/_spectral_embedding.py:275: UserWarning: Array is not symmetric, and will be converted to symmetric by average with its transpose.\n",
      "  adjacency = check_symmetric(adjacency)\n",
      "/Users/kareefullah/Desktop/NeuroData/neurodata/sklearn-proj-folder/sklearn-proj/.venv/lib/python3.11/site-packages/sklearn/manifold/_spectral_embedding.py:275: UserWarning: Array is not symmetric, and will be converted to symmetric by average with its transpose.\n",
      "  adjacency = check_symmetric(adjacency)\n",
      "/Users/kareefullah/Desktop/NeuroData/neurodata/sklearn-proj-folder/sklearn-proj/.venv/lib/python3.11/site-packages/sklearn/manifold/_spectral_embedding.py:275: UserWarning: Array is not symmetric, and will be converted to symmetric by average with its transpose.\n",
      "  adjacency = check_symmetric(adjacency)\n",
      "/Users/kareefullah/Desktop/NeuroData/neurodata/sklearn-proj-folder/sklearn-proj/.venv/lib/python3.11/site-packages/sklearn/manifold/_spectral_embedding.py:275: UserWarning: Array is not symmetric, and will be converted to symmetric by average with its transpose.\n",
      "  adjacency = check_symmetric(adjacency)\n",
      "/Users/kareefullah/Desktop/NeuroData/neurodata/sklearn-proj-folder/sklearn-proj/.venv/lib/python3.11/site-packages/sklearn/manifold/_spectral_embedding.py:275: UserWarning: Array is not symmetric, and will be converted to symmetric by average with its transpose.\n",
      "  adjacency = check_symmetric(adjacency)\n",
      "/Users/kareefullah/Desktop/NeuroData/neurodata/sklearn-proj-folder/sklearn-proj/.venv/lib/python3.11/site-packages/sklearn/manifold/_spectral_embedding.py:275: UserWarning: Array is not symmetric, and will be converted to symmetric by average with its transpose.\n",
      "  adjacency = check_symmetric(adjacency)\n",
      "/Users/kareefullah/Desktop/NeuroData/neurodata/sklearn-proj-folder/sklearn-proj/.venv/lib/python3.11/site-packages/sklearn/manifold/_spectral_embedding.py:275: UserWarning: Array is not symmetric, and will be converted to symmetric by average with its transpose.\n",
      "  adjacency = check_symmetric(adjacency)\n",
      "/Users/kareefullah/Desktop/NeuroData/neurodata/sklearn-proj-folder/sklearn-proj/.venv/lib/python3.11/site-packages/sklearn/manifold/_spectral_embedding.py:275: UserWarning: Array is not symmetric, and will be converted to symmetric by average with its transpose.\n",
      "  adjacency = check_symmetric(adjacency)\n"
     ]
    }
   ],
   "source": [
    "#ase vs sklearn (use B_core)\n",
    "ari_core_ase_df = calc_ari(B = B_core, embed_method = \"ase\")\n",
    "ari_core_sklearn_df = calc_ari(B = B_core, embed_method = \"sklearn\")\n",
    "ari_core_df = pd.concat([ari_core_ase_df, ari_core_sklearn_df])\n",
    "ari_core_df.to_csv(\"ari_core_df.csv\")"
   ]
  },
  {
   "cell_type": "code",
   "execution_count": null,
   "metadata": {},
   "outputs": [
    {
     "data": {
      "text/html": [
       "<div>\n",
       "<style scoped>\n",
       "    .dataframe tbody tr th:only-of-type {\n",
       "        vertical-align: middle;\n",
       "    }\n",
       "\n",
       "    .dataframe tbody tr th {\n",
       "        vertical-align: top;\n",
       "    }\n",
       "\n",
       "    .dataframe thead th {\n",
       "        text-align: right;\n",
       "    }\n",
       "</style>\n",
       "<table border=\"1\" class=\"dataframe\">\n",
       "  <thead>\n",
       "    <tr style=\"text-align: right;\">\n",
       "      <th></th>\n",
       "      <th></th>\n",
       "      <th>ari</th>\n",
       "    </tr>\n",
       "    <tr>\n",
       "      <th>test</th>\n",
       "      <th>n_vert</th>\n",
       "      <th></th>\n",
       "    </tr>\n",
       "  </thead>\n",
       "  <tbody>\n",
       "    <tr>\n",
       "      <th rowspan=\"2\" valign=\"top\">ase</th>\n",
       "      <th>500</th>\n",
       "      <td>0.601873</td>\n",
       "    </tr>\n",
       "    <tr>\n",
       "      <th>1000</th>\n",
       "      <td>0.998000</td>\n",
       "    </tr>\n",
       "    <tr>\n",
       "      <th rowspan=\"2\" valign=\"top\">sklearn</th>\n",
       "      <th>500</th>\n",
       "      <td>0.001947</td>\n",
       "    </tr>\n",
       "    <tr>\n",
       "      <th>1000</th>\n",
       "      <td>0.000338</td>\n",
       "    </tr>\n",
       "  </tbody>\n",
       "</table>\n",
       "</div>"
      ],
      "text/plain": [
       "                     ari\n",
       "test    n_vert          \n",
       "ase     500     0.601873\n",
       "        1000    0.998000\n",
       "sklearn 500     0.001947\n",
       "        1000    0.000338"
      ]
     },
     "execution_count": 119,
     "metadata": {},
     "output_type": "execute_result"
    }
   ],
   "source": [
    "#get the means across the sims (groupby test and n_vert)\n",
    "ari_core_means = ari_core_df.groupby([\"test\", \"n_vert\"]).mean()\n",
    "ari_core_means"
   ]
  },
  {
   "cell_type": "code",
   "execution_count": null,
   "metadata": {},
   "outputs": [
    {
     "data": {
      "text/plain": [
       "Text(0.5, 1.0, 'ARI of Core Periphery Graph using ASE and Sklearn Embedding')"
      ]
     },
     "execution_count": 120,
     "metadata": {},
     "output_type": "execute_result"
    },
    {
     "data": {
      "image/png": "[encoded data removed]",
      "text/plain": [
       "<Figure size 640x480 with 1 Axes>"
      ]
     },
     "metadata": {},
     "output_type": "display_data"
    }
   ],
   "source": [
    "#make ase vs sklearn core periphery plot\n",
    "sns.lineplot(data=ari_core_df, x=\"n_vert\", y=\"ari\", hue=\"test\", errorbar=None)\n",
    "plt.title('ARI of Core Periphery Graph using ASE and Sklearn Embedding')"
   ]
  },
  {
   "cell_type": "code",
   "execution_count": null,
   "metadata": {},
   "outputs": [],
   "source": []
  }
 ],
 "metadata": {
  "kernelspec": {
   "display_name": ".venv",
   "language": "python",
   "name": "python3"
  },
  "language_info": {
   "codemirror_mode": {
    "name": "ipython",
    "version": 3
   },
   "file_extension": ".py",
   "mimetype": "text/x-python",
   "name": "python",
   "nbconvert_exporter": "python",
   "pygments_lexer": "ipython3",
   "version": "3.11.4"
  }
 },
 "nbformat": 4,
 "nbformat_minor": 2
}
