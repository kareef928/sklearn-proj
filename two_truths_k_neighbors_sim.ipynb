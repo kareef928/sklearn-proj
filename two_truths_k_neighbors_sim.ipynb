{
 "cells": [
  {
   "cell_type": "code",
   "execution_count": 1,
   "metadata": {},
   "outputs": [
    {
     "name": "stderr",
     "output_type": "stream",
     "text": [
      "/Users/kareefullah/Desktop/NeuroData/neurodata/sklearn-proj-folder/sklearn-proj/.venv/lib/python3.11/site-packages/tqdm/auto.py:21: TqdmWarning: IProgress not found. Please update jupyter and ipywidgets. See https://ipywidgets.readthedocs.io/en/stable/user_install.html\n",
      "  from .autonotebook import tqdm as notebook_tqdm\n"
     ]
    }
   ],
   "source": [
    "import time\n",
    "import warnings\n",
    "from itertools import cycle, islice\n",
    "\n",
    "import matplotlib.pyplot as plt\n",
    "import numpy as np\n",
    "import pandas as pd\n",
    "import seaborn as sns\n",
    "\n",
    "from sklearn import cluster, datasets, mixture\n",
    "from sklearn.neighbors import kneighbors_graph\n",
    "from sklearn.preprocessing import StandardScaler\n",
    "from sklearn.utils.validation import check_symmetric\n",
    "from sklearn.metrics import adjusted_rand_score\n",
    "from sklearn.cluster import KMeans, SpectralClustering, spectral_clustering, k_means\n",
    "from sklearn.manifold import spectral_embedding\n",
    "\n",
    "from graspologic.plot import adjplot\n",
    "from graspologic.embed import AdjacencySpectralEmbed, LaplacianSpectralEmbed   \n",
    "from graspologic.utils import remap_labels, is_symmetric\n",
    "from graspologic.simulations import sbm\n",
    "\n",
    "from tqdm import tqdm\n",
    "import warnings"
   ]
  },
  {
   "cell_type": "code",
   "execution_count": 2,
   "metadata": {},
   "outputs": [],
   "source": [
    "#2+ hours to run one simulation of 30000 vertices\n",
    "n_sims = 30\n",
    "n_verts = [100, 500, 1000, 5000, 10000, 20000, 30000]\n",
    "\n",
    "B_aff = np.array([[0.050, 0.013], [0.013, 0.051]])\n",
    "B_core = np.array([[0.011, 0.027], [0.027, 0.079]])\n",
    "\n",
    "warnings.filterwarnings(\"ignore\")"
   ]
  },
  {
   "cell_type": "code",
   "execution_count": 3,
   "metadata": {},
   "outputs": [
    {
     "name": "stdout",
     "output_type": "stream",
     "text": [
      "[[0. 1. 1. 1. 1. 0.]\n",
      " [1. 0. 1. 1. 1. 0.]\n",
      " [1. 1. 0. 1. 1. 0.]\n",
      " [1. 1. 0. 0. 1. 1.]\n",
      " [1. 1. 0. 1. 0. 1.]\n",
      " [1. 1. 0. 1. 1. 0.]]\n",
      "False\n"
     ]
    }
   ],
   "source": [
    "#example of going from block matrix to probability matrix to latent position matrix to k neighbors graph\n",
    "\n",
    "#given affinity block matrix\n",
    "B_aff = np.array([[0.050, 0.013], [0.013, 0.051]])\n",
    "\n",
    "#will iterate through list of n_verts in simulation, but use n_verts=6 as example (3 verts per block)\n",
    "n = 6\n",
    "\n",
    "#make probability matrix\n",
    "P = np.zeros((n, n))\n",
    "P[0:int(n/2),0:int(n/2)] = B_aff[0, 0]\n",
    "P[int(n/2):n, int(n/2):n] = B_aff[1, 1]\n",
    "P[0:int(n/2), int(n/2):n] = B_aff[0, 1]\n",
    "P[int(n/2):n, 0:int(n/2)] = B_aff[1, 0]\n",
    "\n",
    "#make latent position matrix\n",
    "U, S, V = np.linalg.svd(P)\n",
    "\n",
    "#sample half the points from U\n",
    "X = U[0:int(n/2), 0:2] @ np.sqrt(np.diag(S[0:2]))\n",
    "\n",
    "#sample half the points from V^T\n",
    "Y = V.T[int(n/2):n, 0:2] @ np.sqrt(np.diag(S[0:2]))\n",
    "\n",
    "#concatenate the two matrices to get the full latent position matrix\n",
    "lat_mat = np.concatenate((X, Y), axis=0)\n",
    "\n",
    "#get k_neighbors graph from latent position matrix\n",
    "kn_graph = kneighbors_graph(lat_mat, n_neighbors=4)\n",
    "print(kn_graph.toarray())\n",
    "print(is_symmetric(kn_graph))\n"
   ]
  },
  {
   "cell_type": "code",
   "execution_count": 4,
   "metadata": {},
   "outputs": [],
   "source": [
    "def calc_ari(B, embed_method):\n",
    "    rows = []\n",
    "    \n",
    "    #progress bar for the outer loop over n_verts\n",
    "    for n in tqdm(n_verts, desc=\"Vertices\"):\n",
    "        # Generate the true labels\n",
    "        labels_sbm = int(n/2) * [0] + int(n/2) * [1]\n",
    "\n",
    "        #make probability matrix from block matrix\n",
    "        P = np.zeros((n, n))\n",
    "        P[0:int(n/2),0:int(n/2)] = B_aff[0, 0]\n",
    "        P[int(n/2):n, int(n/2):n] = B_aff[1, 1]\n",
    "        P[0:int(n/2), int(n/2):n] = B_aff[0, 1]\n",
    "        P[int(n/2):n, 0:int(n/2)] = B_aff[1, 0]\n",
    "\n",
    "        #make latent position matrix\n",
    "        U, S, V = np.linalg.svd(P)\n",
    "\n",
    "        #sample half the points from U\n",
    "        X = U[0:int(n/2), 0:2] @ np.sqrt(np.diag(S[0:2]))\n",
    "\n",
    "        #sample half the points from V^T\n",
    "        Y = V.T[int(n/2):n, 0:2] @ np.sqrt(np.diag(S[0:2]))\n",
    "\n",
    "        #concatenate the two matrices to get the full latent position matrix\n",
    "        lat_mat = np.concatenate((X, Y), axis=0)\n",
    "\n",
    "        #get k_neighbors graph from latent position matrix (k=sqrt(n))\n",
    "        kn_graph = kneighbors_graph(lat_mat, n_neighbors=int(np.sqrt(n)))\n",
    "        kn_graph = kn_graph.toarray()\n",
    "\n",
    "        #progress bar for the inner loop over simulations\n",
    "        for _ in tqdm(range(n_sims), desc=\"Simulations\", position=1, leave=True):\n",
    "            #choose embedding method\n",
    "            if embed_method == \"ase\":\n",
    "                ase = AdjacencySpectralEmbed(n_components=2)\n",
    "                Xhat, Yhat = ase.fit_transform(kn_graph)\n",
    "            elif embed_method == \"lse\":\n",
    "                lse = LaplacianSpectralEmbed(n_components=2)\n",
    "                Xhat, Yhat = lse.fit_transform(kn_graph)\n",
    "            elif embed_method == \"sklearn\":\n",
    "                Xhat = spectral_embedding(kn_graph, n_components=2)\n",
    "\n",
    "\n",
    "            #concatenate Xhat and Yhat if using ase or lse\n",
    "            if embed_method == \"ase\" or embed_method == \"lse\":\n",
    "                Xhat = np.concatenate((Xhat, Yhat), axis=1)\n",
    "\n",
    "            #calculate the ARI score\n",
    "            labels_kmeans = KMeans(n_clusters=2).fit_predict(Xhat)\n",
    "            ari = adjusted_rand_score(labels_sbm, labels_kmeans)\n",
    "            result = {\n",
    "                \"test\": embed_method,\n",
    "                \"n_vert\": n,\n",
    "                \"ari\": ari\n",
    "            }\n",
    "            rows.append(result)\n",
    "        print(n)\n",
    "\n",
    "    results = pd.DataFrame(rows)\n",
    "    return results"
   ]
  },
  {
   "cell_type": "code",
   "execution_count": 5,
   "metadata": {},
   "outputs": [
    {
     "name": "stderr",
     "output_type": "stream",
     "text": [
      "Simulations: 100%|██████████| 30/30 [00:00<00:00, 82.55it/s]\n",
      "Vertices:  14%|█▍        | 1/7 [00:00<00:02,  2.60it/s]"
     ]
    },
    {
     "name": "stdout",
     "output_type": "stream",
     "text": [
      "100\n"
     ]
    },
    {
     "name": "stderr",
     "output_type": "stream",
     "text": [
      "Simulations: 100%|██████████| 30/30 [00:00<00:00, 32.31it/s]\n",
      "Vertices:  29%|██▊       | 2/7 [00:01<00:03,  1.33it/s]"
     ]
    },
    {
     "name": "stdout",
     "output_type": "stream",
     "text": [
      "500\n"
     ]
    },
    {
     "name": "stderr",
     "output_type": "stream",
     "text": [
      "Simulations: 100%|██████████| 30/30 [00:06<00:00,  4.33it/s]\n",
      "Vertices:  43%|████▎     | 3/7 [00:08<00:14,  3.75s/it]"
     ]
    },
    {
     "name": "stdout",
     "output_type": "stream",
     "text": [
      "1000\n"
     ]
    },
    {
     "name": "stderr",
     "output_type": "stream",
     "text": [
      "Simulations: 100%|██████████| 30/30 [03:32<00:00,  7.09s/it]\n",
      "Vertices:  57%|█████▋    | 4/7 [05:16<06:10, 123.61s/it]"
     ]
    },
    {
     "name": "stdout",
     "output_type": "stream",
     "text": [
      "5000\n"
     ]
    },
    {
     "name": "stderr",
     "output_type": "stream",
     "text": [
      "Simulations: 100%|██████████| 30/30 [21:56<00:00, 43.89s/it]\n",
      "Vertices:  71%|███████▏  | 5/7 [31:04<21:15, 637.51s/it]"
     ]
    },
    {
     "name": "stdout",
     "output_type": "stream",
     "text": [
      "10000\n"
     ]
    },
    {
     "name": "stderr",
     "output_type": "stream",
     "text": [
      "Simulations: 100%|██████████| 30/30 [3:21:38<00:00, 403.27s/it]\n",
      "Vertices:  86%|████████▌ | 6/7 [4:26:05<1:26:55, 5215.15s/it]"
     ]
    },
    {
     "name": "stdout",
     "output_type": "stream",
     "text": [
      "20000\n"
     ]
    },
    {
     "name": "stderr",
     "output_type": "stream",
     "text": [
      "Simulations: 100%|██████████| 30/30 [9:23:57<00:00, 1127.92s/it]\n",
      "Vertices: 100%|██████████| 7/7 [16:10:10<00:00, 8315.73s/it] \n"
     ]
    },
    {
     "name": "stdout",
     "output_type": "stream",
     "text": [
      "30000\n"
     ]
    },
    {
     "name": "stderr",
     "output_type": "stream",
     "text": [
      "Simulations: 100%|██████████| 30/30 [00:00<00:00, 115.34it/s]\n",
      "Vertices:  14%|█▍        | 1/7 [00:00<00:02,  2.47it/s]"
     ]
    },
    {
     "name": "stdout",
     "output_type": "stream",
     "text": [
      "100\n"
     ]
    },
    {
     "name": "stderr",
     "output_type": "stream",
     "text": [
      "Simulations: 100%|██████████| 30/30 [00:00<00:00, 31.96it/s]\n",
      "Vertices:  29%|██▊       | 2/7 [00:01<00:03,  1.33it/s]"
     ]
    },
    {
     "name": "stdout",
     "output_type": "stream",
     "text": [
      "500\n"
     ]
    },
    {
     "name": "stderr",
     "output_type": "stream",
     "text": [
      "Simulations: 100%|██████████| 30/30 [00:02<00:00, 13.03it/s]\n",
      "Vertices:  43%|████▎     | 3/7 [00:04<00:06,  1.60s/it]"
     ]
    },
    {
     "name": "stdout",
     "output_type": "stream",
     "text": [
      "1000\n"
     ]
    },
    {
     "name": "stderr",
     "output_type": "stream",
     "text": [
      "Simulations: 100%|██████████| 30/30 [01:18<00:00,  2.63s/it]\n",
      "Vertices:  57%|█████▋    | 4/7 [01:53<02:12, 44.14s/it]"
     ]
    },
    {
     "name": "stdout",
     "output_type": "stream",
     "text": [
      "5000\n"
     ]
    },
    {
     "name": "stderr",
     "output_type": "stream",
     "text": [
      "Simulations: 100%|██████████| 30/30 [05:51<00:00, 11.73s/it]\n",
      "Vertices:  71%|███████▏  | 5/7 [11:21<07:45, 232.98s/it]"
     ]
    },
    {
     "name": "stdout",
     "output_type": "stream",
     "text": [
      "10000\n"
     ]
    },
    {
     "name": "stderr",
     "output_type": "stream",
     "text": [
      "Simulations: 100%|██████████| 30/30 [32:35<00:00, 65.18s/it]\n",
      "Vertices:  86%|████████▌ | 6/7 [1:13:31<23:42, 1422.06s/it]"
     ]
    },
    {
     "name": "stdout",
     "output_type": "stream",
     "text": [
      "20000\n"
     ]
    },
    {
     "name": "stderr",
     "output_type": "stream",
     "text": [
      "Simulations: 100%|██████████| 30/30 [2:44:47<00:00, 329.58s/it]\n",
      "Vertices: 100%|██████████| 7/7 [5:47:49<00:00, 2981.39s/it]\n"
     ]
    },
    {
     "name": "stdout",
     "output_type": "stream",
     "text": [
      "30000\n"
     ]
    },
    {
     "name": "stderr",
     "output_type": "stream",
     "text": [
      "Simulations: 100%|██████████| 30/30 [00:00<00:00, 87.03it/s] \n",
      "Vertices:  14%|█▍        | 1/7 [00:00<00:02,  2.19it/s]"
     ]
    },
    {
     "name": "stdout",
     "output_type": "stream",
     "text": [
      "100\n"
     ]
    },
    {
     "name": "stderr",
     "output_type": "stream",
     "text": [
      "Simulations: 100%|██████████| 30/30 [00:00<00:00, 43.18it/s]\n",
      "Vertices:  29%|██▊       | 2/7 [00:01<00:04,  1.06it/s]"
     ]
    },
    {
     "name": "stdout",
     "output_type": "stream",
     "text": [
      "500\n"
     ]
    },
    {
     "name": "stderr",
     "output_type": "stream",
     "text": [
      "Simulations: 100%|██████████| 30/30 [00:02<00:00, 13.18it/s]\n",
      "Vertices:  43%|████▎     | 3/7 [00:04<00:06,  1.73s/it]"
     ]
    },
    {
     "name": "stdout",
     "output_type": "stream",
     "text": [
      "1000\n"
     ]
    },
    {
     "name": "stderr",
     "output_type": "stream",
     "text": [
      "Simulations: 100%|██████████| 30/30 [01:27<00:00,  2.92s/it]\n",
      "Vertices:  57%|█████▋    | 4/7 [02:12<02:35, 51.78s/it]"
     ]
    },
    {
     "name": "stdout",
     "output_type": "stream",
     "text": [
      "5000\n"
     ]
    },
    {
     "name": "stderr",
     "output_type": "stream",
     "text": [
      "Simulations: 100%|██████████| 30/30 [07:14<00:00, 14.48s/it]\n",
      "Vertices:  71%|███████▏  | 5/7 [14:26<09:55, 297.67s/it]"
     ]
    },
    {
     "name": "stdout",
     "output_type": "stream",
     "text": [
      "10000\n"
     ]
    },
    {
     "name": "stderr",
     "output_type": "stream",
     "text": [
      "Simulations: 100%|██████████| 30/30 [57:57<00:00, 115.92s/it]\n",
      "Vertices:  86%|████████▌ | 6/7 [1:53:11<36:51, 2211.00s/it]"
     ]
    },
    {
     "name": "stdout",
     "output_type": "stream",
     "text": [
      "20000\n"
     ]
    },
    {
     "name": "stderr",
     "output_type": "stream",
     "text": [
      "Simulations: 100%|██████████| 30/30 [3:25:29<00:00, 410.98s/it]\n",
      "Vertices: 100%|██████████| 7/7 [7:33:23<00:00, 3886.28s/it]\n"
     ]
    },
    {
     "name": "stdout",
     "output_type": "stream",
     "text": [
      "30000\n"
     ]
    }
   ],
   "source": [
    "#comparison of embedding methods on affinity graph (LSE should do best)\n",
    "ari_aff_lse_df = calc_ari(B = B_aff, embed_method = \"lse\")\n",
    "ari_aff_ase_df = calc_ari(B = B_aff, embed_method = \"ase\")\n",
    "ari_aff_sklearn_df = calc_ari(B = B_aff, embed_method = \"sklearn\")\n",
    "ari_aff_df = pd.concat([ari_aff_lse_df, ari_aff_sklearn_df])\n",
    "ari_aff_df = pd.concat([ari_aff_lse_df, ari_aff_ase_df, ari_aff_sklearn_df])\n",
    "#ari_aff_df.to_csv(\"ari_aff_df.csv\")"
   ]
  },
  {
   "cell_type": "code",
   "execution_count": 6,
   "metadata": {},
   "outputs": [
    {
     "data": {
      "text/html": [
       "<div>\n",
       "<style scoped>\n",
       "    .dataframe tbody tr th:only-of-type {\n",
       "        vertical-align: middle;\n",
       "    }\n",
       "\n",
       "    .dataframe tbody tr th {\n",
       "        vertical-align: top;\n",
       "    }\n",
       "\n",
       "    .dataframe thead th {\n",
       "        text-align: right;\n",
       "    }\n",
       "</style>\n",
       "<table border=\"1\" class=\"dataframe\">\n",
       "  <thead>\n",
       "    <tr style=\"text-align: right;\">\n",
       "      <th></th>\n",
       "      <th></th>\n",
       "      <th>ari</th>\n",
       "    </tr>\n",
       "    <tr>\n",
       "      <th>test</th>\n",
       "      <th>n_vert</th>\n",
       "      <th></th>\n",
       "    </tr>\n",
       "  </thead>\n",
       "  <tbody>\n",
       "    <tr>\n",
       "      <th rowspan=\"7\" valign=\"top\">ase</th>\n",
       "      <th>100</th>\n",
       "      <td>0.582482</td>\n",
       "    </tr>\n",
       "    <tr>\n",
       "      <th>500</th>\n",
       "      <td>0.691045</td>\n",
       "    </tr>\n",
       "    <tr>\n",
       "      <th>1000</th>\n",
       "      <td>0.749228</td>\n",
       "    </tr>\n",
       "    <tr>\n",
       "      <th>5000</th>\n",
       "      <td>0.796318</td>\n",
       "    </tr>\n",
       "    <tr>\n",
       "      <th>10000</th>\n",
       "      <td>0.832733</td>\n",
       "    </tr>\n",
       "    <tr>\n",
       "      <th>20000</th>\n",
       "      <td>0.632899</td>\n",
       "    </tr>\n",
       "    <tr>\n",
       "      <th>30000</th>\n",
       "      <td>0.833133</td>\n",
       "    </tr>\n",
       "    <tr>\n",
       "      <th rowspan=\"7\" valign=\"top\">lse</th>\n",
       "      <th>100</th>\n",
       "      <td>0.617848</td>\n",
       "    </tr>\n",
       "    <tr>\n",
       "      <th>500</th>\n",
       "      <td>0.001742</td>\n",
       "    </tr>\n",
       "    <tr>\n",
       "      <th>1000</th>\n",
       "      <td>0.004005</td>\n",
       "    </tr>\n",
       "    <tr>\n",
       "      <th>5000</th>\n",
       "      <td>0.662612</td>\n",
       "    </tr>\n",
       "    <tr>\n",
       "      <th>10000</th>\n",
       "      <td>0.000263</td>\n",
       "    </tr>\n",
       "    <tr>\n",
       "      <th>20000</th>\n",
       "      <td>0.566720</td>\n",
       "    </tr>\n",
       "    <tr>\n",
       "      <th>30000</th>\n",
       "      <td>0.266769</td>\n",
       "    </tr>\n",
       "    <tr>\n",
       "      <th rowspan=\"7\" valign=\"top\">sklearn</th>\n",
       "      <th>100</th>\n",
       "      <td>0.271413</td>\n",
       "    </tr>\n",
       "    <tr>\n",
       "      <th>500</th>\n",
       "      <td>0.276873</td>\n",
       "    </tr>\n",
       "    <tr>\n",
       "      <th>1000</th>\n",
       "      <td>0.216550</td>\n",
       "    </tr>\n",
       "    <tr>\n",
       "      <th>5000</th>\n",
       "      <td>0.321494</td>\n",
       "    </tr>\n",
       "    <tr>\n",
       "      <th>10000</th>\n",
       "      <td>0.313234</td>\n",
       "    </tr>\n",
       "    <tr>\n",
       "      <th>20000</th>\n",
       "      <td>0.293474</td>\n",
       "    </tr>\n",
       "    <tr>\n",
       "      <th>30000</th>\n",
       "      <td>0.433382</td>\n",
       "    </tr>\n",
       "  </tbody>\n",
       "</table>\n",
       "</div>"
      ],
      "text/plain": [
       "                     ari\n",
       "test    n_vert          \n",
       "ase     100     0.582482\n",
       "        500     0.691045\n",
       "        1000    0.749228\n",
       "        5000    0.796318\n",
       "        10000   0.832733\n",
       "        20000   0.632899\n",
       "        30000   0.833133\n",
       "lse     100     0.617848\n",
       "        500     0.001742\n",
       "        1000    0.004005\n",
       "        5000    0.662612\n",
       "        10000   0.000263\n",
       "        20000   0.566720\n",
       "        30000   0.266769\n",
       "sklearn 100     0.271413\n",
       "        500     0.276873\n",
       "        1000    0.216550\n",
       "        5000    0.321494\n",
       "        10000   0.313234\n",
       "        20000   0.293474\n",
       "        30000   0.433382"
      ]
     },
     "execution_count": 6,
     "metadata": {},
     "output_type": "execute_result"
    }
   ],
   "source": [
    "#get the means across the sims (groupby test and n_vert)\n",
    "ari_aff_means = ari_aff_df.groupby([\"test\", \"n_vert\"]).mean()\n",
    "ari_aff_means"
   ]
  },
  {
   "cell_type": "code",
   "execution_count": 7,
   "metadata": {},
   "outputs": [
    {
     "data": {
      "text/plain": [
       "Text(0.5, 1.0, 'ARI of Affinity Graph using Different Embedding Methods')"
      ]
     },
     "execution_count": 7,
     "metadata": {},
     "output_type": "execute_result"
    },
    {
     "data": {
      "image/png": "[encoded data removed]",
      "text/plain": [
       "<Figure size 640x480 with 1 Axes>"
      ]
     },
     "metadata": {},
     "output_type": "display_data"
    }
   ],
   "source": [
    "#make lse vs sklearn affinity plot\n",
    "sns.lineplot(data=ari_aff_means, x=\"n_vert\", y=\"ari\", hue=\"test\", errorbar=None)\n",
    "plt.title('ARI of Affinity Graph using Different Embedding Methods')"
   ]
  },
  {
   "cell_type": "code",
   "execution_count": 8,
   "metadata": {},
   "outputs": [
    {
     "name": "stderr",
     "output_type": "stream",
     "text": [
      "Simulations: 100%|██████████| 30/30 [00:00<00:00, 58.75it/s]\n",
      "Vertices:  14%|█▍        | 1/7 [00:00<00:03,  1.83it/s]"
     ]
    },
    {
     "name": "stdout",
     "output_type": "stream",
     "text": [
      "100\n"
     ]
    },
    {
     "name": "stderr",
     "output_type": "stream",
     "text": [
      "Simulations: 100%|██████████| 30/30 [00:00<00:00, 55.26it/s]\n",
      "Vertices:  29%|██▊       | 2/7 [00:01<00:03,  1.66it/s]"
     ]
    },
    {
     "name": "stdout",
     "output_type": "stream",
     "text": [
      "500\n"
     ]
    },
    {
     "name": "stderr",
     "output_type": "stream",
     "text": [
      "Simulations: 100%|██████████| 30/30 [00:02<00:00, 13.30it/s]\n",
      "Vertices:  43%|████▎     | 3/7 [00:03<00:05,  1.49s/it]"
     ]
    },
    {
     "name": "stdout",
     "output_type": "stream",
     "text": [
      "1000\n"
     ]
    },
    {
     "name": "stderr",
     "output_type": "stream",
     "text": [
      "Simulations: 100%|██████████| 30/30 [01:20<00:00,  2.69s/it]\n",
      "Vertices:  57%|█████▋    | 4/7 [01:52<02:11, 43.91s/it]"
     ]
    },
    {
     "name": "stdout",
     "output_type": "stream",
     "text": [
      "5000\n"
     ]
    },
    {
     "name": "stderr",
     "output_type": "stream",
     "text": [
      "Simulations: 100%|██████████| 30/30 [05:34<00:00, 11.14s/it]\n",
      "Vertices:  71%|███████▏  | 5/7 [11:00<07:31, 225.56s/it]"
     ]
    },
    {
     "name": "stdout",
     "output_type": "stream",
     "text": [
      "10000\n"
     ]
    },
    {
     "name": "stderr",
     "output_type": "stream",
     "text": [
      "Simulations: 100%|██████████| 30/30 [32:03<00:00, 64.10s/it]\n",
      "Vertices:  86%|████████▌ | 6/7 [1:11:02<22:53, 1373.50s/it]"
     ]
    },
    {
     "name": "stdout",
     "output_type": "stream",
     "text": [
      "20000\n"
     ]
    },
    {
     "name": "stderr",
     "output_type": "stream",
     "text": [
      "Simulations: 100%|██████████| 30/30 [2:11:03<00:00, 262.12s/it]\n",
      "Vertices: 100%|██████████| 7/7 [4:58:21<00:00, 2557.30s/it]\n"
     ]
    },
    {
     "name": "stdout",
     "output_type": "stream",
     "text": [
      "30000\n"
     ]
    },
    {
     "name": "stderr",
     "output_type": "stream",
     "text": [
      "Simulations: 100%|██████████| 30/30 [00:00<00:00, 119.89it/s]\n",
      "Vertices:  14%|█▍        | 1/7 [00:00<00:02,  2.98it/s]"
     ]
    },
    {
     "name": "stdout",
     "output_type": "stream",
     "text": [
      "100\n"
     ]
    },
    {
     "name": "stderr",
     "output_type": "stream",
     "text": [
      "Simulations: 100%|██████████| 30/30 [00:00<00:00, 40.34it/s]\n",
      "Vertices:  29%|██▊       | 2/7 [00:01<00:03,  1.64it/s]"
     ]
    },
    {
     "name": "stdout",
     "output_type": "stream",
     "text": [
      "500\n"
     ]
    },
    {
     "name": "stderr",
     "output_type": "stream",
     "text": [
      "Simulations: 100%|██████████| 30/30 [00:04<00:00,  7.17it/s]\n",
      "Vertices:  43%|████▎     | 3/7 [00:05<00:09,  2.37s/it]"
     ]
    },
    {
     "name": "stdout",
     "output_type": "stream",
     "text": [
      "1000\n"
     ]
    },
    {
     "name": "stderr",
     "output_type": "stream",
     "text": [
      "Simulations: 100%|██████████| 30/30 [02:48<00:00,  5.63s/it]\n",
      "Vertices:  57%|█████▋    | 4/7 [03:24<03:59, 79.80s/it]"
     ]
    },
    {
     "name": "stdout",
     "output_type": "stream",
     "text": [
      "5000\n"
     ]
    },
    {
     "name": "stderr",
     "output_type": "stream",
     "text": [
      "Simulations: 100%|██████████| 30/30 [17:28<00:00, 34.96s/it]\n",
      "Vertices:  71%|███████▏  | 5/7 [24:25<16:51, 505.91s/it]"
     ]
    },
    {
     "name": "stdout",
     "output_type": "stream",
     "text": [
      "10000\n"
     ]
    },
    {
     "name": "stderr",
     "output_type": "stream",
     "text": [
      "Simulations: 100%|██████████| 30/30 [2:22:37<00:00, 285.24s/it]\n",
      "Vertices:  86%|████████▌ | 6/7 [3:15:26<1:03:42, 3822.74s/it]"
     ]
    },
    {
     "name": "stdout",
     "output_type": "stream",
     "text": [
      "20000\n"
     ]
    },
    {
     "name": "stderr",
     "output_type": "stream",
     "text": [
      "Simulations: 100%|██████████| 30/30 [8:36:28<00:00, 1032.93s/it]\n",
      "Vertices: 100%|██████████| 7/7 [13:29:42<00:00, 6940.43s/it] \n"
     ]
    },
    {
     "name": "stdout",
     "output_type": "stream",
     "text": [
      "30000\n"
     ]
    },
    {
     "name": "stderr",
     "output_type": "stream",
     "text": [
      "Simulations: 100%|██████████| 30/30 [00:00<00:00, 112.59it/s]\n",
      "Vertices:  14%|█▍        | 1/7 [00:00<00:02,  2.65it/s]"
     ]
    },
    {
     "name": "stdout",
     "output_type": "stream",
     "text": [
      "100\n"
     ]
    },
    {
     "name": "stderr",
     "output_type": "stream",
     "text": [
      "Simulations: 100%|██████████| 30/30 [00:00<00:00, 35.66it/s]\n",
      "Vertices:  29%|██▊       | 2/7 [00:01<00:03,  1.43it/s]"
     ]
    },
    {
     "name": "stdout",
     "output_type": "stream",
     "text": [
      "500\n"
     ]
    },
    {
     "name": "stderr",
     "output_type": "stream",
     "text": [
      "Simulations: 100%|██████████| 30/30 [00:02<00:00, 13.66it/s]\n",
      "Vertices:  43%|████▎     | 3/7 [00:03<00:06,  1.56s/it]"
     ]
    },
    {
     "name": "stdout",
     "output_type": "stream",
     "text": [
      "1000\n"
     ]
    },
    {
     "name": "stderr",
     "output_type": "stream",
     "text": [
      "Simulations: 100%|██████████| 30/30 [01:19<00:00,  2.64s/it]\n",
      "Vertices:  57%|█████▋    | 4/7 [01:54<02:14, 44.78s/it]"
     ]
    },
    {
     "name": "stdout",
     "output_type": "stream",
     "text": [
      "5000\n"
     ]
    },
    {
     "name": "stderr",
     "output_type": "stream",
     "text": [
      "Simulations: 100%|██████████| 30/30 [06:35<00:00, 13.20s/it]\n",
      "Vertices:  71%|███████▏  | 5/7 [12:24<08:31, 255.68s/it]"
     ]
    },
    {
     "name": "stdout",
     "output_type": "stream",
     "text": [
      "10000\n"
     ]
    },
    {
     "name": "stderr",
     "output_type": "stream",
     "text": [
      "Simulations: 100%|██████████| 30/30 [47:29<00:00, 94.97s/it]\n",
      "Vertices:  86%|████████▌ | 6/7 [1:29:47<29:07, 1747.41s/it]"
     ]
    },
    {
     "name": "stdout",
     "output_type": "stream",
     "text": [
      "20000\n"
     ]
    },
    {
     "name": "stderr",
     "output_type": "stream",
     "text": [
      "Simulations: 100%|██████████| 30/30 [3:10:00<00:00, 380.01s/it]\n",
      "Vertices: 100%|██████████| 7/7 [6:17:32<00:00, 3236.06s/it]\n"
     ]
    },
    {
     "name": "stdout",
     "output_type": "stream",
     "text": [
      "30000\n"
     ]
    }
   ],
   "source": [
    "#comparison of embedding methods on core periphery graph (ASE should do best)\n",
    "ari_core_ase_df = calc_ari(B = B_core, embed_method = \"ase\")\n",
    "ari_core_lse_df = calc_ari(B = B_core, embed_method = \"lse\")\n",
    "ari_core_sklearn_df = calc_ari(B = B_core, embed_method = \"sklearn\")\n",
    "ari_core_df = pd.concat([ari_core_ase_df, ari_core_sklearn_df])\n",
    "ari_core_df = pd.concat([ari_core_ase_df, ari_core_lse_df, ari_core_sklearn_df])\n",
    "ari_core_df.to_csv(\"ari_core_df.csv\")"
   ]
  },
  {
   "cell_type": "code",
   "execution_count": 9,
   "metadata": {},
   "outputs": [
    {
     "data": {
      "text/html": [
       "<div>\n",
       "<style scoped>\n",
       "    .dataframe tbody tr th:only-of-type {\n",
       "        vertical-align: middle;\n",
       "    }\n",
       "\n",
       "    .dataframe tbody tr th {\n",
       "        vertical-align: top;\n",
       "    }\n",
       "\n",
       "    .dataframe thead th {\n",
       "        text-align: right;\n",
       "    }\n",
       "</style>\n",
       "<table border=\"1\" class=\"dataframe\">\n",
       "  <thead>\n",
       "    <tr style=\"text-align: right;\">\n",
       "      <th></th>\n",
       "      <th></th>\n",
       "      <th>ari</th>\n",
       "    </tr>\n",
       "    <tr>\n",
       "      <th>test</th>\n",
       "      <th>n_vert</th>\n",
       "      <th></th>\n",
       "    </tr>\n",
       "  </thead>\n",
       "  <tbody>\n",
       "    <tr>\n",
       "      <th rowspan=\"7\" valign=\"top\">ase</th>\n",
       "      <th>100</th>\n",
       "      <td>0.550365</td>\n",
       "    </tr>\n",
       "    <tr>\n",
       "      <th>500</th>\n",
       "      <td>0.625937</td>\n",
       "    </tr>\n",
       "    <tr>\n",
       "      <th>1000</th>\n",
       "      <td>0.684401</td>\n",
       "    </tr>\n",
       "    <tr>\n",
       "      <th>5000</th>\n",
       "      <td>0.829466</td>\n",
       "    </tr>\n",
       "    <tr>\n",
       "      <th>10000</th>\n",
       "      <td>0.799439</td>\n",
       "    </tr>\n",
       "    <tr>\n",
       "      <th>20000</th>\n",
       "      <td>0.699499</td>\n",
       "    </tr>\n",
       "    <tr>\n",
       "      <th>30000</th>\n",
       "      <td>0.766493</td>\n",
       "    </tr>\n",
       "    <tr>\n",
       "      <th rowspan=\"7\" valign=\"top\">lse</th>\n",
       "      <th>100</th>\n",
       "      <td>0.617848</td>\n",
       "    </tr>\n",
       "    <tr>\n",
       "      <th>500</th>\n",
       "      <td>0.003131</td>\n",
       "    </tr>\n",
       "    <tr>\n",
       "      <th>1000</th>\n",
       "      <td>0.004953</td>\n",
       "    </tr>\n",
       "    <tr>\n",
       "      <th>5000</th>\n",
       "      <td>0.563332</td>\n",
       "    </tr>\n",
       "    <tr>\n",
       "      <th>10000</th>\n",
       "      <td>0.033593</td>\n",
       "    </tr>\n",
       "    <tr>\n",
       "      <th>20000</th>\n",
       "      <td>0.600053</td>\n",
       "    </tr>\n",
       "    <tr>\n",
       "      <th>30000</th>\n",
       "      <td>0.466720</td>\n",
       "    </tr>\n",
       "    <tr>\n",
       "      <th rowspan=\"7\" valign=\"top\">sklearn</th>\n",
       "      <th>100</th>\n",
       "      <td>0.365715</td>\n",
       "    </tr>\n",
       "    <tr>\n",
       "      <th>500</th>\n",
       "      <td>0.113951</td>\n",
       "    </tr>\n",
       "    <tr>\n",
       "      <th>1000</th>\n",
       "      <td>0.325099</td>\n",
       "    </tr>\n",
       "    <tr>\n",
       "      <th>5000</th>\n",
       "      <td>0.295412</td>\n",
       "    </tr>\n",
       "    <tr>\n",
       "      <th>10000</th>\n",
       "      <td>0.310152</td>\n",
       "    </tr>\n",
       "    <tr>\n",
       "      <th>20000</th>\n",
       "      <td>0.262000</td>\n",
       "    </tr>\n",
       "    <tr>\n",
       "      <th>30000</th>\n",
       "      <td>0.400062</td>\n",
       "    </tr>\n",
       "  </tbody>\n",
       "</table>\n",
       "</div>"
      ],
      "text/plain": [
       "                     ari\n",
       "test    n_vert          \n",
       "ase     100     0.550365\n",
       "        500     0.625937\n",
       "        1000    0.684401\n",
       "        5000    0.829466\n",
       "        10000   0.799439\n",
       "        20000   0.699499\n",
       "        30000   0.766493\n",
       "lse     100     0.617848\n",
       "        500     0.003131\n",
       "        1000    0.004953\n",
       "        5000    0.563332\n",
       "        10000   0.033593\n",
       "        20000   0.600053\n",
       "        30000   0.466720\n",
       "sklearn 100     0.365715\n",
       "        500     0.113951\n",
       "        1000    0.325099\n",
       "        5000    0.295412\n",
       "        10000   0.310152\n",
       "        20000   0.262000\n",
       "        30000   0.400062"
      ]
     },
     "execution_count": 9,
     "metadata": {},
     "output_type": "execute_result"
    }
   ],
   "source": [
    "#get the means across the sims (groupby test and n_vert)\n",
    "ari_core_means = ari_core_df.groupby([\"test\", \"n_vert\"]).mean()\n",
    "ari_core_means"
   ]
  },
  {
   "cell_type": "code",
   "execution_count": 10,
   "metadata": {},
   "outputs": [
    {
     "data": {
      "text/plain": [
       "Text(0.5, 1.0, 'ARI of Core Periphery Graph using Different Embedding Methods')"
      ]
     },
     "execution_count": 10,
     "metadata": {},
     "output_type": "execute_result"
    },
    {
     "data": {
      "image/png": "[encoded data removed]",
      "text/plain": [
       "<Figure size 640x480 with 1 Axes>"
      ]
     },
     "metadata": {},
     "output_type": "display_data"
    }
   ],
   "source": [
    "#make ase vs sklearn core periphery plot\n",
    "sns.lineplot(data=ari_core_means, x=\"n_vert\", y=\"ari\", hue=\"test\", errorbar=None)\n",
    "plt.title('ARI of Core Periphery Graph using Different Embedding Methods')"
   ]
  },
  {
   "cell_type": "code",
   "execution_count": null,
   "metadata": {},
   "outputs": [],
   "source": []
  },
  {
   "cell_type": "code",
   "execution_count": null,
   "metadata": {},
   "outputs": [],
   "source": []
  }
 ],
 "metadata": {
  "kernelspec": {
   "display_name": ".venv",
   "language": "python",
   "name": "python3"
  },
  "language_info": {
   "codemirror_mode": {
    "name": "ipython",
    "version": 3
   },
   "file_extension": ".py",
   "mimetype": "text/x-python",
   "name": "python",
   "nbconvert_exporter": "python",
   "pygments_lexer": "ipython3",
   "version": "3.11.4"
  }
 },
 "nbformat": 4,
 "nbformat_minor": 2
}
