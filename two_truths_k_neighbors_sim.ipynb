{
 "cells": [
  {
   "cell_type": "code",
   "execution_count": 69,
   "metadata": {},
   "outputs": [],
   "source": [
    "import time\n",
    "import warnings\n",
    "from itertools import cycle, islice\n",
    "\n",
    "import matplotlib.pyplot as plt\n",
    "import numpy as np\n",
    "import pandas as pd\n",
    "import seaborn as sns\n",
    "\n",
    "from sklearn import cluster, datasets, mixture\n",
    "from sklearn.neighbors import kneighbors_graph\n",
    "from sklearn.preprocessing import StandardScaler\n",
    "from sklearn.utils.validation import check_symmetric\n",
    "from sklearn.metrics import adjusted_rand_score\n",
    "from sklearn.cluster import KMeans, SpectralClustering, spectral_clustering, k_means\n",
    "from sklearn.manifold import spectral_embedding\n",
    "\n",
    "from graspologic.plot import adjplot\n",
    "from graspologic.embed import AdjacencySpectralEmbed, LaplacianSpectralEmbed   \n",
    "from graspologic.utils import remap_labels, is_symmetric\n",
    "from graspologic.simulations import sbm\n",
    "\n",
    "from tqdm import tqdm\n",
    "import warnings"
   ]
  },
  {
   "cell_type": "code",
   "execution_count": 70,
   "metadata": {},
   "outputs": [],
   "source": [
    "n_sims = 50\n",
    "n_verts = [100, 500, 1000, 2000, 3000, 4000, 5000]\n",
    "\n",
    "B_aff = np.array([[0.050, 0.013], [0.013, 0.051]])\n",
    "B_core = np.array([[0.011, 0.027], [0.027, 0.079]])\n",
    "\n",
    "warnings.filterwarnings(\"ignore\")"
   ]
  },
  {
   "cell_type": "code",
   "execution_count": 80,
   "metadata": {},
   "outputs": [
    {
     "name": "stdout",
     "output_type": "stream",
     "text": [
      "[[0. 1. 1. 1. 1. 0.]\n",
      " [1. 0. 1. 1. 1. 0.]\n",
      " [1. 1. 0. 1. 1. 0.]\n",
      " [1. 1. 0. 0. 1. 1.]\n",
      " [1. 1. 0. 1. 0. 1.]\n",
      " [1. 1. 0. 1. 1. 0.]]\n",
      "False\n"
     ]
    }
   ],
   "source": [
    "#example of going from block matrix to probability matrix to latent position matrix to k neighbors graph\n",
    "\n",
    "#given affinity block matrix\n",
    "B_aff = np.array([[0.050, 0.013], [0.013, 0.051]])\n",
    "\n",
    "#will iterate through list of n_verts in simulation, but use n_verts=6 as example (3 verts per block)\n",
    "n = 6\n",
    "\n",
    "#make probability matrix\n",
    "P = np.zeros((n, n))\n",
    "P[0:int(n/2),0:int(n/2)] = B_aff[0, 0]\n",
    "P[int(n/2):n, int(n/2):n] = B_aff[1, 1]\n",
    "P[0:int(n/2), int(n/2):n] = B_aff[0, 1]\n",
    "P[int(n/2):n, 0:int(n/2)] = B_aff[1, 0]\n",
    "\n",
    "#make latent position matrix\n",
    "U, S, V = np.linalg.svd(P)\n",
    "\n",
    "#sample half the points from U\n",
    "X = U[0:int(n/2), 0:2] @ np.sqrt(np.diag(S[0:2]))\n",
    "\n",
    "#sample half the points from V^T\n",
    "Y = V.T[int(n/2):n, 0:2] @ np.sqrt(np.diag(S[0:2]))\n",
    "\n",
    "#concatenate the two matrices to get the full latent position matrix\n",
    "lat_mat = np.concatenate((X, Y), axis=0)\n",
    "\n",
    "#get k_neighbors graph from latent position matrix\n",
    "kn_graph = kneighbors_graph(lat_mat, n_neighbors=4)\n",
    "print(kn_graph.toarray())\n",
    "print(is_symmetric(kn_graph))\n"
   ]
  },
  {
   "cell_type": "code",
   "execution_count": 73,
   "metadata": {},
   "outputs": [],
   "source": [
    "def calc_ari(B, embed_method):\n",
    "    rows = []\n",
    "    \n",
    "    #progress bar for the outer loop over n_verts\n",
    "    for n in tqdm(n_verts, desc=\"Vertices\"):\n",
    "        # Generate the true labels\n",
    "        labels_sbm = int(n/2) * [0] + int(n/2) * [1]\n",
    "\n",
    "        #make probability matrix from block matrix\n",
    "        P = np.zeros((n, n))\n",
    "        P[0:int(n/2),0:int(n/2)] = B_aff[0, 0]\n",
    "        P[int(n/2):n, int(n/2):n] = B_aff[1, 1]\n",
    "        P[0:int(n/2), int(n/2):n] = B_aff[0, 1]\n",
    "        P[int(n/2):n, 0:int(n/2)] = B_aff[1, 0]\n",
    "\n",
    "        #make latent position matrix\n",
    "        U, S, V = np.linalg.svd(P)\n",
    "\n",
    "        #sample half the points from U\n",
    "        X = U[0:int(n/2), 0:2] @ np.sqrt(np.diag(S[0:2]))\n",
    "\n",
    "        #sample half the points from V^T\n",
    "        Y = V.T[int(n/2):n, 0:2] @ np.sqrt(np.diag(S[0:2]))\n",
    "\n",
    "        #concatenate the two matrices to get the full latent position matrix\n",
    "        lat_mat = np.concatenate((X, Y), axis=0)\n",
    "\n",
    "        #get k_neighbors graph from latent position matrix (k=sqrt(n))\n",
    "        kn_graph = kneighbors_graph(lat_mat, n_neighbors=int(np.sqrt(n)))\n",
    "        kn_graph = kn_graph.toarray()\n",
    "\n",
    "        #progress bar for the inner loop over simulations\n",
    "        for _ in tqdm(range(n_sims), desc=\"Simulations\", position=1, leave=True):\n",
    "            #choose embedding method\n",
    "            if embed_method == \"ase\":\n",
    "                ase = AdjacencySpectralEmbed(n_components=2)\n",
    "                Xhat, Yhat = ase.fit_transform(kn_graph)\n",
    "            elif embed_method == \"lse\":\n",
    "                lse = LaplacianSpectralEmbed(n_components=2)\n",
    "                Xhat, Yhat = lse.fit_transform(kn_graph)\n",
    "            elif embed_method == \"sklearn\":\n",
    "                Xhat = spectral_embedding(kn_graph, n_components=2)\n",
    "\n",
    "\n",
    "            #concatenate Xhat and Yhat if using ase or lse\n",
    "            if embed_method == \"ase\" or embed_method == \"lse\":\n",
    "                Xhat = np.concatenate((Xhat, Yhat), axis=1)\n",
    "\n",
    "            #calculate the ARI score\n",
    "            labels_kmeans = KMeans(n_clusters=2).fit_predict(Xhat)\n",
    "            ari = adjusted_rand_score(labels_sbm, labels_kmeans)\n",
    "            result = {\n",
    "                \"test\": embed_method,\n",
    "                \"n_vert\": n,\n",
    "                \"ari\": ari\n",
    "            }\n",
    "            rows.append(result)\n",
    "        print(n)\n",
    "\n",
    "    results = pd.DataFrame(rows)\n",
    "    return results"
   ]
  },
  {
   "cell_type": "code",
   "execution_count": 74,
   "metadata": {},
   "outputs": [
    {
     "name": "stderr",
     "output_type": "stream",
     "text": [
      "Simulations: 100%|██████████| 50/50 [00:03<00:00, 14.03it/s]\n",
      "Vertices:  14%|█▍        | 1/7 [00:03<00:22,  3.72s/it]"
     ]
    },
    {
     "name": "stdout",
     "output_type": "stream",
     "text": [
      "100\n"
     ]
    },
    {
     "name": "stderr",
     "output_type": "stream",
     "text": [
      "Simulations: 100%|██████████| 50/50 [00:04<00:00, 10.06it/s]\n",
      "Vertices:  29%|██▊       | 2/7 [00:10<00:26,  5.28s/it]"
     ]
    },
    {
     "name": "stdout",
     "output_type": "stream",
     "text": [
      "500\n"
     ]
    },
    {
     "name": "stderr",
     "output_type": "stream",
     "text": [
      "Simulations: 100%|██████████| 50/50 [00:18<00:00,  2.68it/s]\n",
      "Vertices:  43%|████▎     | 3/7 [00:31<00:51, 12.86s/it]"
     ]
    },
    {
     "name": "stdout",
     "output_type": "stream",
     "text": [
      "1000\n"
     ]
    },
    {
     "name": "stderr",
     "output_type": "stream",
     "text": [
      "Simulations: 100%|██████████| 50/50 [01:19<00:00,  1.60s/it]\n",
      "Vertices:  57%|█████▋    | 4/7 [01:58<02:05, 41.83s/it]"
     ]
    },
    {
     "name": "stdout",
     "output_type": "stream",
     "text": [
      "2000\n"
     ]
    },
    {
     "name": "stderr",
     "output_type": "stream",
     "text": [
      "Simulations: 100%|██████████| 50/50 [03:00<00:00,  3.61s/it]\n",
      "Vertices:  71%|███████▏  | 5/7 [05:19<03:18, 99.46s/it]"
     ]
    },
    {
     "name": "stdout",
     "output_type": "stream",
     "text": [
      "3000\n"
     ]
    },
    {
     "name": "stderr",
     "output_type": "stream",
     "text": [
      "Simulations: 100%|██████████| 50/50 [06:45<00:00,  8.12s/it]\n",
      "Vertices:  86%|████████▌ | 6/7 [12:43<03:36, 216.45s/it]"
     ]
    },
    {
     "name": "stdout",
     "output_type": "stream",
     "text": [
      "4000\n"
     ]
    },
    {
     "name": "stderr",
     "output_type": "stream",
     "text": [
      "Simulations: 100%|██████████| 50/50 [10:45<00:00, 12.91s/it]\n",
      "Vertices: 100%|██████████| 7/7 [24:49<00:00, 212.76s/it]\n"
     ]
    },
    {
     "name": "stdout",
     "output_type": "stream",
     "text": [
      "5000\n"
     ]
    },
    {
     "name": "stderr",
     "output_type": "stream",
     "text": [
      "Simulations: 100%|██████████| 50/50 [00:01<00:00, 32.70it/s]\n",
      "Vertices:  14%|█▍        | 1/7 [00:01<00:09,  1.62s/it]"
     ]
    },
    {
     "name": "stdout",
     "output_type": "stream",
     "text": [
      "100\n"
     ]
    },
    {
     "name": "stderr",
     "output_type": "stream",
     "text": [
      "Simulations: 100%|██████████| 50/50 [00:04<00:00, 11.84it/s]\n",
      "Vertices:  29%|██▊       | 2/7 [00:07<00:21,  4.37s/it]"
     ]
    },
    {
     "name": "stdout",
     "output_type": "stream",
     "text": [
      "500\n"
     ]
    },
    {
     "name": "stderr",
     "output_type": "stream",
     "text": [
      "Simulations: 100%|██████████| 50/50 [00:13<00:00,  3.68it/s]\n",
      "Vertices:  43%|████▎     | 3/7 [00:27<00:45, 11.36s/it]"
     ]
    },
    {
     "name": "stdout",
     "output_type": "stream",
     "text": [
      "1000\n"
     ]
    },
    {
     "name": "stderr",
     "output_type": "stream",
     "text": [
      "Simulations: 100%|██████████| 50/50 [00:26<00:00,  1.90it/s]\n",
      "Vertices:  57%|█████▋    | 4/7 [00:58<00:56, 18.99s/it]"
     ]
    },
    {
     "name": "stdout",
     "output_type": "stream",
     "text": [
      "2000\n"
     ]
    },
    {
     "name": "stderr",
     "output_type": "stream",
     "text": [
      "Simulations: 100%|██████████| 50/50 [01:01<00:00,  1.22s/it]\n",
      "Vertices:  71%|███████▏  | 5/7 [02:12<01:17, 39.00s/it]"
     ]
    },
    {
     "name": "stdout",
     "output_type": "stream",
     "text": [
      "3000\n"
     ]
    },
    {
     "name": "stderr",
     "output_type": "stream",
     "text": [
      "Simulations: 100%|██████████| 50/50 [02:02<00:00,  2.46s/it]\n",
      "Vertices:  86%|████████▌ | 6/7 [04:42<01:16, 76.50s/it]"
     ]
    },
    {
     "name": "stdout",
     "output_type": "stream",
     "text": [
      "4000\n"
     ]
    },
    {
     "name": "stderr",
     "output_type": "stream",
     "text": [
      "Simulations: 100%|██████████| 50/50 [04:11<00:00,  5.03s/it]\n",
      "Vertices: 100%|██████████| 7/7 [09:47<00:00, 83.93s/it] \n"
     ]
    },
    {
     "name": "stdout",
     "output_type": "stream",
     "text": [
      "5000\n"
     ]
    },
    {
     "name": "stderr",
     "output_type": "stream",
     "text": [
      "Simulations: 100%|██████████| 50/50 [00:00<00:00, 66.79it/s]\n",
      "Vertices:  14%|█▍        | 1/7 [00:00<00:04,  1.26it/s]"
     ]
    },
    {
     "name": "stdout",
     "output_type": "stream",
     "text": [
      "100\n"
     ]
    },
    {
     "name": "stderr",
     "output_type": "stream",
     "text": [
      "Simulations: 100%|██████████| 50/50 [00:02<00:00, 23.78it/s]\n",
      "Vertices:  29%|██▊       | 2/7 [00:03<00:08,  1.68s/it]"
     ]
    },
    {
     "name": "stdout",
     "output_type": "stream",
     "text": [
      "500\n"
     ]
    },
    {
     "name": "stderr",
     "output_type": "stream",
     "text": [
      "Simulations: 100%|██████████| 50/50 [00:06<00:00,  7.18it/s]\n",
      "Vertices:  43%|████▎     | 3/7 [00:10<00:17,  4.40s/it]"
     ]
    },
    {
     "name": "stdout",
     "output_type": "stream",
     "text": [
      "1000\n"
     ]
    },
    {
     "name": "stderr",
     "output_type": "stream",
     "text": [
      "Simulations: 100%|██████████| 50/50 [00:19<00:00,  2.58it/s]\n",
      "Vertices:  57%|█████▋    | 4/7 [00:34<00:35, 11.92s/it]"
     ]
    },
    {
     "name": "stdout",
     "output_type": "stream",
     "text": [
      "2000\n"
     ]
    },
    {
     "name": "stderr",
     "output_type": "stream",
     "text": [
      "Simulations: 100%|██████████| 50/50 [01:00<00:00,  1.22s/it]\n",
      "Vertices:  71%|███████▏  | 5/7 [01:49<01:09, 34.88s/it]"
     ]
    },
    {
     "name": "stdout",
     "output_type": "stream",
     "text": [
      "3000\n"
     ]
    },
    {
     "name": "stderr",
     "output_type": "stream",
     "text": [
      "Simulations: 100%|██████████| 50/50 [01:51<00:00,  2.23s/it]\n",
      "Vertices:  86%|████████▌ | 6/7 [04:09<01:10, 70.38s/it]"
     ]
    },
    {
     "name": "stdout",
     "output_type": "stream",
     "text": [
      "4000\n"
     ]
    },
    {
     "name": "stderr",
     "output_type": "stream",
     "text": [
      "Simulations: 100%|██████████| 50/50 [04:35<00:00,  5.50s/it]\n",
      "Vertices: 100%|██████████| 7/7 [09:40<00:00, 82.94s/it] \n"
     ]
    },
    {
     "name": "stdout",
     "output_type": "stream",
     "text": [
      "5000\n"
     ]
    }
   ],
   "source": [
    "#comparison of embedding methods on affinity graph (LSE should do best)\n",
    "ari_aff_lse_df = calc_ari(B = B_aff, embed_method = \"lse\")\n",
    "ari_aff_ase_df = calc_ari(B = B_aff, embed_method = \"ase\")\n",
    "ari_aff_sklearn_df = calc_ari(B = B_aff, embed_method = \"sklearn\")\n",
    "ari_aff_df = pd.concat([ari_aff_lse_df, ari_aff_sklearn_df])\n",
    "ari_aff_df = pd.concat([ari_aff_lse_df, ari_aff_ase_df, ari_aff_sklearn_df])\n",
    "ari_aff_df.to_csv(\"ari_aff_df.csv\")"
   ]
  },
  {
   "cell_type": "code",
   "execution_count": 75,
   "metadata": {},
   "outputs": [
    {
     "data": {
      "text/html": [
       "<div>\n",
       "<style scoped>\n",
       "    .dataframe tbody tr th:only-of-type {\n",
       "        vertical-align: middle;\n",
       "    }\n",
       "\n",
       "    .dataframe tbody tr th {\n",
       "        vertical-align: top;\n",
       "    }\n",
       "\n",
       "    .dataframe thead th {\n",
       "        text-align: right;\n",
       "    }\n",
       "</style>\n",
       "<table border=\"1\" class=\"dataframe\">\n",
       "  <thead>\n",
       "    <tr style=\"text-align: right;\">\n",
       "      <th></th>\n",
       "      <th></th>\n",
       "      <th>ari</th>\n",
       "    </tr>\n",
       "    <tr>\n",
       "      <th>test</th>\n",
       "      <th>n_vert</th>\n",
       "      <th></th>\n",
       "    </tr>\n",
       "  </thead>\n",
       "  <tbody>\n",
       "    <tr>\n",
       "      <th rowspan=\"7\" valign=\"top\">ase</th>\n",
       "      <th>100</th>\n",
       "      <td>0.498978</td>\n",
       "    </tr>\n",
       "    <tr>\n",
       "      <th>500</th>\n",
       "      <td>0.632767</td>\n",
       "    </tr>\n",
       "    <tr>\n",
       "      <th>1000</th>\n",
       "      <td>0.664953</td>\n",
       "    </tr>\n",
       "    <tr>\n",
       "      <th>2000</th>\n",
       "      <td>0.719090</td>\n",
       "    </tr>\n",
       "    <tr>\n",
       "      <th>3000</th>\n",
       "      <td>0.791741</td>\n",
       "    </tr>\n",
       "    <tr>\n",
       "      <th>4000</th>\n",
       "      <td>0.657694</td>\n",
       "    </tr>\n",
       "    <tr>\n",
       "      <th>5000</th>\n",
       "      <td>0.717914</td>\n",
       "    </tr>\n",
       "    <tr>\n",
       "      <th rowspan=\"7\" valign=\"top\">lse</th>\n",
       "      <th>100</th>\n",
       "      <td>0.617848</td>\n",
       "    </tr>\n",
       "    <tr>\n",
       "      <th>500</th>\n",
       "      <td>0.143733</td>\n",
       "    </tr>\n",
       "    <tr>\n",
       "      <th>1000</th>\n",
       "      <td>0.006560</td>\n",
       "    </tr>\n",
       "    <tr>\n",
       "      <th>2000</th>\n",
       "      <td>0.539318</td>\n",
       "    </tr>\n",
       "    <tr>\n",
       "      <th>3000</th>\n",
       "      <td>0.455777</td>\n",
       "    </tr>\n",
       "    <tr>\n",
       "      <th>4000</th>\n",
       "      <td>0.680373</td>\n",
       "    </tr>\n",
       "    <tr>\n",
       "      <th>5000</th>\n",
       "      <td>0.600228</td>\n",
       "    </tr>\n",
       "    <tr>\n",
       "      <th rowspan=\"7\" valign=\"top\">sklearn</th>\n",
       "      <th>100</th>\n",
       "      <td>0.295346</td>\n",
       "    </tr>\n",
       "    <tr>\n",
       "      <th>500</th>\n",
       "      <td>0.346168</td>\n",
       "    </tr>\n",
       "    <tr>\n",
       "      <th>1000</th>\n",
       "      <td>0.249671</td>\n",
       "    </tr>\n",
       "    <tr>\n",
       "      <th>2000</th>\n",
       "      <td>0.238106</td>\n",
       "    </tr>\n",
       "    <tr>\n",
       "      <th>3000</th>\n",
       "      <td>0.221293</td>\n",
       "    </tr>\n",
       "    <tr>\n",
       "      <th>4000</th>\n",
       "      <td>0.271046</td>\n",
       "    </tr>\n",
       "    <tr>\n",
       "      <th>5000</th>\n",
       "      <td>0.269690</td>\n",
       "    </tr>\n",
       "  </tbody>\n",
       "</table>\n",
       "</div>"
      ],
      "text/plain": [
       "                     ari\n",
       "test    n_vert          \n",
       "ase     100     0.498978\n",
       "        500     0.632767\n",
       "        1000    0.664953\n",
       "        2000    0.719090\n",
       "        3000    0.791741\n",
       "        4000    0.657694\n",
       "        5000    0.717914\n",
       "lse     100     0.617848\n",
       "        500     0.143733\n",
       "        1000    0.006560\n",
       "        2000    0.539318\n",
       "        3000    0.455777\n",
       "        4000    0.680373\n",
       "        5000    0.600228\n",
       "sklearn 100     0.295346\n",
       "        500     0.346168\n",
       "        1000    0.249671\n",
       "        2000    0.238106\n",
       "        3000    0.221293\n",
       "        4000    0.271046\n",
       "        5000    0.269690"
      ]
     },
     "execution_count": 75,
     "metadata": {},
     "output_type": "execute_result"
    }
   ],
   "source": [
    "#get the means across the sims (groupby test and n_vert)\n",
    "ari_aff_means = ari_aff_df.groupby([\"test\", \"n_vert\"]).mean()\n",
    "ari_aff_means"
   ]
  },
  {
   "cell_type": "code",
   "execution_count": 76,
   "metadata": {},
   "outputs": [
    {
     "data": {
      "text/plain": [
       "Text(0.5, 1.0, 'ARI of Affinity Graph using Different Embedding Methods')"
      ]
     },
     "execution_count": 76,
     "metadata": {},
     "output_type": "execute_result"
    },
    {
     "data": {
      "image/png": "[encoded data removed]",
      "text/plain": [
       "<Figure size 640x480 with 1 Axes>"
      ]
     },
     "metadata": {},
     "output_type": "display_data"
    }
   ],
   "source": [
    "#make lse vs sklearn affinity plot\n",
    "sns.lineplot(data=ari_aff_means, x=\"n_vert\", y=\"ari\", hue=\"test\", errorbar=None)\n",
    "plt.title('ARI of Affinity Graph using Different Embedding Methods')"
   ]
  },
  {
   "cell_type": "code",
   "execution_count": 77,
   "metadata": {},
   "outputs": [
    {
     "name": "stderr",
     "output_type": "stream",
     "text": [
      "Simulations: 100%|██████████| 50/50 [00:00<00:00, 61.23it/s]\n",
      "Vertices:  14%|█▍        | 1/7 [00:00<00:05,  1.07it/s]"
     ]
    },
    {
     "name": "stdout",
     "output_type": "stream",
     "text": [
      "100\n"
     ]
    },
    {
     "name": "stderr",
     "output_type": "stream",
     "text": [
      "Simulations: 100%|██████████| 50/50 [00:03<00:00, 15.60it/s]\n",
      "Vertices:  29%|██▊       | 2/7 [00:04<00:12,  2.40s/it]"
     ]
    },
    {
     "name": "stdout",
     "output_type": "stream",
     "text": [
      "500\n"
     ]
    },
    {
     "name": "stderr",
     "output_type": "stream",
     "text": [
      "Simulations: 100%|██████████| 50/50 [00:07<00:00,  6.30it/s]\n",
      "Vertices:  43%|████▎     | 3/7 [00:13<00:21,  5.38s/it]"
     ]
    },
    {
     "name": "stdout",
     "output_type": "stream",
     "text": [
      "1000\n"
     ]
    },
    {
     "name": "stderr",
     "output_type": "stream",
     "text": [
      "Simulations: 100%|██████████| 50/50 [00:26<00:00,  1.88it/s]\n",
      "Vertices:  57%|█████▋    | 4/7 [00:44<00:46, 15.59s/it]"
     ]
    },
    {
     "name": "stdout",
     "output_type": "stream",
     "text": [
      "2000\n"
     ]
    },
    {
     "name": "stderr",
     "output_type": "stream",
     "text": [
      "Simulations: 100%|██████████| 50/50 [01:00<00:00,  1.21s/it]\n",
      "Vertices:  71%|███████▏  | 5/7 [02:01<01:15, 37.69s/it]"
     ]
    },
    {
     "name": "stdout",
     "output_type": "stream",
     "text": [
      "3000\n"
     ]
    },
    {
     "name": "stderr",
     "output_type": "stream",
     "text": [
      "Simulations: 100%|██████████| 50/50 [01:50<00:00,  2.21s/it]\n",
      "Vertices:  86%|████████▌ | 6/7 [04:21<01:12, 72.46s/it]"
     ]
    },
    {
     "name": "stdout",
     "output_type": "stream",
     "text": [
      "4000\n"
     ]
    },
    {
     "name": "stderr",
     "output_type": "stream",
     "text": [
      "Simulations: 100%|██████████| 50/50 [04:03<00:00,  4.87s/it]\n",
      "Vertices: 100%|██████████| 7/7 [09:18<00:00, 79.85s/it] \n"
     ]
    },
    {
     "name": "stdout",
     "output_type": "stream",
     "text": [
      "5000\n"
     ]
    },
    {
     "name": "stderr",
     "output_type": "stream",
     "text": [
      "Simulations: 100%|██████████| 50/50 [00:00<00:00, 146.45it/s]\n",
      "Vertices:  14%|█▍        | 1/7 [00:00<00:02,  2.72it/s]"
     ]
    },
    {
     "name": "stdout",
     "output_type": "stream",
     "text": [
      "100\n"
     ]
    },
    {
     "name": "stderr",
     "output_type": "stream",
     "text": [
      "Simulations: 100%|██████████| 50/50 [00:01<00:00, 29.54it/s]\n",
      "Vertices:  29%|██▊       | 2/7 [00:02<00:05,  1.18s/it]"
     ]
    },
    {
     "name": "stdout",
     "output_type": "stream",
     "text": [
      "500\n"
     ]
    },
    {
     "name": "stderr",
     "output_type": "stream",
     "text": [
      "Simulations: 100%|██████████| 50/50 [00:07<00:00,  6.89it/s]\n",
      "Vertices:  43%|████▎     | 3/7 [00:09<00:16,  4.13s/it]"
     ]
    },
    {
     "name": "stdout",
     "output_type": "stream",
     "text": [
      "1000\n"
     ]
    },
    {
     "name": "stderr",
     "output_type": "stream",
     "text": [
      "Simulations: 100%|██████████| 50/50 [00:36<00:00,  1.38it/s]\n",
      "Vertices:  57%|█████▋    | 4/7 [00:48<00:53, 17.88s/it]"
     ]
    },
    {
     "name": "stdout",
     "output_type": "stream",
     "text": [
      "2000\n"
     ]
    },
    {
     "name": "stderr",
     "output_type": "stream",
     "text": [
      "Simulations: 100%|██████████| 50/50 [02:06<00:00,  2.52s/it]\n",
      "Vertices:  71%|███████▏  | 5/7 [03:05<02:01, 60.78s/it]"
     ]
    },
    {
     "name": "stdout",
     "output_type": "stream",
     "text": [
      "3000\n"
     ]
    },
    {
     "name": "stderr",
     "output_type": "stream",
     "text": [
      "Simulations: 100%|██████████| 50/50 [05:25<00:00,  6.50s/it]\n",
      "Vertices:  86%|████████▌ | 6/7 [09:01<02:41, 161.22s/it]"
     ]
    },
    {
     "name": "stdout",
     "output_type": "stream",
     "text": [
      "4000\n"
     ]
    },
    {
     "name": "stderr",
     "output_type": "stream",
     "text": [
      "Simulations: 100%|██████████| 50/50 [08:45<00:00, 10.50s/it]\n",
      "Vertices: 100%|██████████| 7/7 [18:35<00:00, 159.32s/it]\n"
     ]
    },
    {
     "name": "stdout",
     "output_type": "stream",
     "text": [
      "5000\n"
     ]
    },
    {
     "name": "stderr",
     "output_type": "stream",
     "text": [
      "Simulations: 100%|██████████| 50/50 [00:00<00:00, 111.61it/s]\n",
      "Vertices:  14%|█▍        | 1/7 [00:00<00:02,  2.11it/s]"
     ]
    },
    {
     "name": "stdout",
     "output_type": "stream",
     "text": [
      "100\n"
     ]
    },
    {
     "name": "stderr",
     "output_type": "stream",
     "text": [
      "Simulations: 100%|██████████| 50/50 [00:01<00:00, 35.22it/s]\n",
      "Vertices:  29%|██▊       | 2/7 [00:02<00:05,  1.10s/it]"
     ]
    },
    {
     "name": "stdout",
     "output_type": "stream",
     "text": [
      "500\n"
     ]
    },
    {
     "name": "stderr",
     "output_type": "stream",
     "text": [
      "Simulations: 100%|██████████| 50/50 [00:05<00:00,  9.73it/s]\n",
      "Vertices:  43%|████▎     | 3/7 [00:07<00:12,  3.21s/it]"
     ]
    },
    {
     "name": "stdout",
     "output_type": "stream",
     "text": [
      "1000\n"
     ]
    },
    {
     "name": "stderr",
     "output_type": "stream",
     "text": [
      "Simulations: 100%|██████████| 50/50 [00:18<00:00,  2.70it/s]\n",
      "Vertices:  57%|█████▋    | 4/7 [00:30<00:32, 10.96s/it]"
     ]
    },
    {
     "name": "stdout",
     "output_type": "stream",
     "text": [
      "2000\n"
     ]
    },
    {
     "name": "stderr",
     "output_type": "stream",
     "text": [
      "Simulations: 100%|██████████| 50/50 [00:51<00:00,  1.03s/it]\n",
      "Vertices:  71%|███████▏  | 5/7 [01:34<01:00, 30.04s/it]"
     ]
    },
    {
     "name": "stdout",
     "output_type": "stream",
     "text": [
      "3000\n"
     ]
    },
    {
     "name": "stderr",
     "output_type": "stream",
     "text": [
      "Simulations: 100%|██████████| 50/50 [01:38<00:00,  1.98s/it]\n",
      "Vertices:  86%|████████▌ | 6/7 [03:40<01:02, 62.52s/it]"
     ]
    },
    {
     "name": "stdout",
     "output_type": "stream",
     "text": [
      "4000\n"
     ]
    },
    {
     "name": "stderr",
     "output_type": "stream",
     "text": [
      "Simulations: 100%|██████████| 50/50 [04:56<00:00,  5.94s/it]\n",
      "Vertices: 100%|██████████| 7/7 [09:26<00:00, 80.99s/it] \n"
     ]
    },
    {
     "name": "stdout",
     "output_type": "stream",
     "text": [
      "5000\n"
     ]
    }
   ],
   "source": [
    "#comparison of embedding methods on core periphery graph (ASE should do best)\n",
    "ari_core_ase_df = calc_ari(B = B_core, embed_method = \"ase\")\n",
    "ari_core_lse_df = calc_ari(B = B_core, embed_method = \"lse\")\n",
    "ari_core_sklearn_df = calc_ari(B = B_core, embed_method = \"sklearn\")\n",
    "ari_core_df = pd.concat([ari_core_ase_df, ari_core_sklearn_df])\n",
    "ari_core_df = pd.concat([ari_core_ase_df, ari_core_lse_df, ari_core_sklearn_df])\n",
    "ari_core_df.to_csv(\"ari_core_df.csv\")"
   ]
  },
  {
   "cell_type": "code",
   "execution_count": 78,
   "metadata": {},
   "outputs": [
    {
     "data": {
      "text/html": [
       "<div>\n",
       "<style scoped>\n",
       "    .dataframe tbody tr th:only-of-type {\n",
       "        vertical-align: middle;\n",
       "    }\n",
       "\n",
       "    .dataframe tbody tr th {\n",
       "        vertical-align: top;\n",
       "    }\n",
       "\n",
       "    .dataframe thead th {\n",
       "        text-align: right;\n",
       "    }\n",
       "</style>\n",
       "<table border=\"1\" class=\"dataframe\">\n",
       "  <thead>\n",
       "    <tr style=\"text-align: right;\">\n",
       "      <th></th>\n",
       "      <th></th>\n",
       "      <th>ari</th>\n",
       "    </tr>\n",
       "    <tr>\n",
       "      <th>test</th>\n",
       "      <th>n_vert</th>\n",
       "      <th></th>\n",
       "    </tr>\n",
       "  </thead>\n",
       "  <tbody>\n",
       "    <tr>\n",
       "      <th rowspan=\"7\" valign=\"top\">ase</th>\n",
       "      <th>100</th>\n",
       "      <td>0.633869</td>\n",
       "    </tr>\n",
       "    <tr>\n",
       "      <th>500</th>\n",
       "      <td>0.515253</td>\n",
       "    </tr>\n",
       "    <tr>\n",
       "      <th>1000</th>\n",
       "      <td>0.548266</td>\n",
       "    </tr>\n",
       "    <tr>\n",
       "      <th>2000</th>\n",
       "      <td>0.659324</td>\n",
       "    </tr>\n",
       "    <tr>\n",
       "      <th>3000</th>\n",
       "      <td>0.732456</td>\n",
       "    </tr>\n",
       "    <tr>\n",
       "      <th>4000</th>\n",
       "      <td>0.578092</td>\n",
       "    </tr>\n",
       "    <tr>\n",
       "      <th>5000</th>\n",
       "      <td>0.638231</td>\n",
       "    </tr>\n",
       "    <tr>\n",
       "      <th rowspan=\"7\" valign=\"top\">lse</th>\n",
       "      <th>100</th>\n",
       "      <td>0.656064</td>\n",
       "    </tr>\n",
       "    <tr>\n",
       "      <th>500</th>\n",
       "      <td>0.125018</td>\n",
       "    </tr>\n",
       "    <tr>\n",
       "      <th>1000</th>\n",
       "      <td>0.008308</td>\n",
       "    </tr>\n",
       "    <tr>\n",
       "      <th>2000</th>\n",
       "      <td>0.459511</td>\n",
       "    </tr>\n",
       "    <tr>\n",
       "      <th>3000</th>\n",
       "      <td>0.458525</td>\n",
       "    </tr>\n",
       "    <tr>\n",
       "      <th>4000</th>\n",
       "      <td>0.640533</td>\n",
       "    </tr>\n",
       "    <tr>\n",
       "      <th>5000</th>\n",
       "      <td>0.540224</td>\n",
       "    </tr>\n",
       "    <tr>\n",
       "      <th rowspan=\"7\" valign=\"top\">sklearn</th>\n",
       "      <th>100</th>\n",
       "      <td>0.341407</td>\n",
       "    </tr>\n",
       "    <tr>\n",
       "      <th>500</th>\n",
       "      <td>0.232783</td>\n",
       "    </tr>\n",
       "    <tr>\n",
       "      <th>1000</th>\n",
       "      <td>0.318776</td>\n",
       "    </tr>\n",
       "    <tr>\n",
       "      <th>2000</th>\n",
       "      <td>0.367424</td>\n",
       "    </tr>\n",
       "    <tr>\n",
       "      <th>3000</th>\n",
       "      <td>0.269228</td>\n",
       "    </tr>\n",
       "    <tr>\n",
       "      <th>4000</th>\n",
       "      <td>0.328446</td>\n",
       "    </tr>\n",
       "    <tr>\n",
       "      <th>5000</th>\n",
       "      <td>0.387149</td>\n",
       "    </tr>\n",
       "  </tbody>\n",
       "</table>\n",
       "</div>"
      ],
      "text/plain": [
       "                     ari\n",
       "test    n_vert          \n",
       "ase     100     0.633869\n",
       "        500     0.515253\n",
       "        1000    0.548266\n",
       "        2000    0.659324\n",
       "        3000    0.732456\n",
       "        4000    0.578092\n",
       "        5000    0.638231\n",
       "lse     100     0.656064\n",
       "        500     0.125018\n",
       "        1000    0.008308\n",
       "        2000    0.459511\n",
       "        3000    0.458525\n",
       "        4000    0.640533\n",
       "        5000    0.540224\n",
       "sklearn 100     0.341407\n",
       "        500     0.232783\n",
       "        1000    0.318776\n",
       "        2000    0.367424\n",
       "        3000    0.269228\n",
       "        4000    0.328446\n",
       "        5000    0.387149"
      ]
     },
     "execution_count": 78,
     "metadata": {},
     "output_type": "execute_result"
    }
   ],
   "source": [
    "#get the means across the sims (groupby test and n_vert)\n",
    "ari_core_means = ari_core_df.groupby([\"test\", \"n_vert\"]).mean()\n",
    "ari_core_means"
   ]
  },
  {
   "cell_type": "code",
   "execution_count": 79,
   "metadata": {},
   "outputs": [
    {
     "data": {
      "text/plain": [
       "Text(0.5, 1.0, 'ARI of Core Periphery Graph using Different Embedding Methods')"
      ]
     },
     "execution_count": 79,
     "metadata": {},
     "output_type": "execute_result"
    },
    {
     "data": {
      "image/png": "[encoded data removed]",
      "text/plain": [
       "<Figure size 640x480 with 1 Axes>"
      ]
     },
     "metadata": {},
     "output_type": "display_data"
    }
   ],
   "source": [
    "#make ase vs sklearn core periphery plot\n",
    "sns.lineplot(data=ari_core_means, x=\"n_vert\", y=\"ari\", hue=\"test\", errorbar=None)\n",
    "plt.title('ARI of Core Periphery Graph using Different Embedding Methods')"
   ]
  },
  {
   "cell_type": "code",
   "execution_count": null,
   "metadata": {},
   "outputs": [],
   "source": []
  }
 ],
 "metadata": {
  "kernelspec": {
   "display_name": ".venv",
   "language": "python",
   "name": "python3"
  },
  "language_info": {
   "codemirror_mode": {
    "name": "ipython",
    "version": 3
   },
   "file_extension": ".py",
   "mimetype": "text/x-python",
   "name": "python",
   "nbconvert_exporter": "python",
   "pygments_lexer": "ipython3",
   "version": "3.11.4"
  }
 },
 "nbformat": 4,
 "nbformat_minor": 2
}
